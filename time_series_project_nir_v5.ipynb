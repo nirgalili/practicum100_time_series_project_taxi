{
 "cells": [
  {
   "cell_type": "markdown",
   "id": "e2701f51",
   "metadata": {},
   "source": [
    "# Import libraries"
   ]
  },
  {
   "cell_type": "code",
   "execution_count": 39,
   "id": "18b803f8",
   "metadata": {
    "scrolled": true
   },
   "outputs": [
    {
     "name": "stdout",
     "output_type": "stream",
     "text": [
      "Requirement already satisfied: verstack in c:\\users\\nirga\\anaconda3\\lib\\site-packages (3.2.3)\n",
      "Requirement already satisfied: pandas in c:\\users\\nirga\\anaconda3\\lib\\site-packages (from verstack) (1.3.4)\n",
      "Requirement already satisfied: lightgbm==3.3.0 in c:\\users\\nirga\\anaconda3\\lib\\site-packages (from verstack) (3.3.0)\n",
      "Requirement already satisfied: python-dateutil==2.8.1 in c:\\users\\nirga\\anaconda3\\lib\\site-packages (from verstack) (2.8.1)\n",
      "Requirement already satisfied: tensorflow==2.7.0 in c:\\users\\nirga\\anaconda3\\lib\\site-packages (from verstack) (2.7.0)\n",
      "Requirement already satisfied: category-encoders==2.4.0 in c:\\users\\nirga\\anaconda3\\lib\\site-packages (from verstack) (2.4.0)\n",
      "Requirement already satisfied: numpy in c:\\users\\nirga\\anaconda3\\lib\\site-packages (from verstack) (1.20.3)\n",
      "Requirement already satisfied: mlxtend in c:\\users\\nirga\\anaconda3\\lib\\site-packages (from verstack) (0.19.0)\n",
      "Requirement already satisfied: optuna==2.10.0 in c:\\users\\nirga\\anaconda3\\lib\\site-packages (from verstack) (2.10.0)\n",
      "Requirement already satisfied: plotly==5.3.1 in c:\\users\\nirga\\anaconda3\\lib\\site-packages (from verstack) (5.3.1)\n",
      "Requirement already satisfied: matplotlib in c:\\users\\nirga\\anaconda3\\lib\\site-packages (from verstack) (3.4.3)\n",
      "Requirement already satisfied: holidays==0.11.3.1 in c:\\users\\nirga\\anaconda3\\lib\\site-packages (from verstack) (0.11.3.1)\n",
      "Requirement already satisfied: xgboost in c:\\users\\nirga\\anaconda3\\lib\\site-packages (from verstack) (1.0.1)\n",
      "Requirement already satisfied: scikit-learn==1.0.1 in c:\\users\\nirga\\anaconda3\\lib\\site-packages (from verstack) (1.0.1)\n",
      "Requirement already satisfied: keras==2.7.0 in c:\\users\\nirga\\anaconda3\\lib\\site-packages (from verstack) (2.7.0)\n",
      "Requirement already satisfied: statsmodels>=0.9.0 in c:\\users\\nirga\\anaconda3\\lib\\site-packages (from category-encoders==2.4.0->verstack) (0.12.2)\n",
      "Requirement already satisfied: patsy>=0.5.1 in c:\\users\\nirga\\anaconda3\\lib\\site-packages (from category-encoders==2.4.0->verstack) (0.5.2)\n",
      "Requirement already satisfied: scipy>=1.0.0 in c:\\users\\nirga\\anaconda3\\lib\\site-packages (from category-encoders==2.4.0->verstack) (1.7.1)\n",
      "Requirement already satisfied: hijri-converter in c:\\users\\nirga\\anaconda3\\lib\\site-packages (from holidays==0.11.3.1->verstack) (2.2.4)\n",
      "Requirement already satisfied: korean-lunar-calendar in c:\\users\\nirga\\anaconda3\\lib\\site-packages (from holidays==0.11.3.1->verstack) (0.2.1)\n",
      "Requirement already satisfied: convertdate>=2.3.0 in c:\\users\\nirga\\anaconda3\\lib\\site-packages (from holidays==0.11.3.1->verstack) (2.4.0)\n",
      "Requirement already satisfied: wheel in c:\\users\\nirga\\anaconda3\\lib\\site-packages (from lightgbm==3.3.0->verstack) (0.37.0)\n",
      "Requirement already satisfied: alembic in c:\\users\\nirga\\anaconda3\\lib\\site-packages (from optuna==2.10.0->verstack) (1.8.1)\n",
      "Requirement already satisfied: tqdm in c:\\users\\nirga\\anaconda3\\lib\\site-packages (from optuna==2.10.0->verstack) (4.62.3)\n",
      "Requirement already satisfied: PyYAML in c:\\users\\nirga\\anaconda3\\lib\\site-packages (from optuna==2.10.0->verstack) (6.0)\n",
      "Requirement already satisfied: packaging>=20.0 in c:\\users\\nirga\\anaconda3\\lib\\site-packages (from optuna==2.10.0->verstack) (21.0)\n",
      "Requirement already satisfied: sqlalchemy>=1.1.0 in c:\\users\\nirga\\anaconda3\\lib\\site-packages (from optuna==2.10.0->verstack) (1.4.22)\n",
      "Requirement already satisfied: cmaes>=0.8.2 in c:\\users\\nirga\\anaconda3\\lib\\site-packages (from optuna==2.10.0->verstack) (0.8.2)\n",
      "Requirement already satisfied: cliff in c:\\users\\nirga\\anaconda3\\lib\\site-packages (from optuna==2.10.0->verstack) (3.10.1)\n",
      "Requirement already satisfied: colorlog in c:\\users\\nirga\\anaconda3\\lib\\site-packages (from optuna==2.10.0->verstack) (6.6.0)\n",
      "Requirement already satisfied: tenacity>=6.2.0 in c:\\users\\nirga\\anaconda3\\lib\\site-packages (from plotly==5.3.1->verstack) (8.0.1)\n",
      "Requirement already satisfied: six in c:\\users\\nirga\\anaconda3\\lib\\site-packages (from plotly==5.3.1->verstack) (1.16.0)\n",
      "Requirement already satisfied: threadpoolctl>=2.0.0 in c:\\users\\nirga\\anaconda3\\lib\\site-packages (from scikit-learn==1.0.1->verstack) (2.2.0)\n",
      "Requirement already satisfied: joblib>=0.11 in c:\\users\\nirga\\anaconda3\\lib\\site-packages (from scikit-learn==1.0.1->verstack) (1.0.1)\n",
      "Requirement already satisfied: grpcio<2.0,>=1.24.3 in c:\\users\\nirga\\anaconda3\\lib\\site-packages (from tensorflow==2.7.0->verstack) (1.47.0)\n",
      "Requirement already satisfied: protobuf>=3.9.2 in c:\\users\\nirga\\anaconda3\\lib\\site-packages (from tensorflow==2.7.0->verstack) (3.19.4)\n",
      "Requirement already satisfied: tensorflow-estimator<2.8,~=2.7.0rc0 in c:\\users\\nirga\\anaconda3\\lib\\site-packages (from tensorflow==2.7.0->verstack) (2.7.0)\n",
      "Requirement already satisfied: keras-preprocessing>=1.1.1 in c:\\users\\nirga\\anaconda3\\lib\\site-packages (from tensorflow==2.7.0->verstack) (1.1.2)\n",
      "Requirement already satisfied: google-pasta>=0.1.1 in c:\\users\\nirga\\anaconda3\\lib\\site-packages (from tensorflow==2.7.0->verstack) (0.2.0)\n",
      "Requirement already satisfied: h5py>=2.9.0 in c:\\users\\nirga\\anaconda3\\lib\\site-packages (from tensorflow==2.7.0->verstack) (3.2.1)\n",
      "Requirement already satisfied: tensorflow-io-gcs-filesystem>=0.21.0 in c:\\users\\nirga\\anaconda3\\lib\\site-packages (from tensorflow==2.7.0->verstack) (0.26.0)\n",
      "Requirement already satisfied: typing-extensions>=3.6.6 in c:\\users\\nirga\\anaconda3\\lib\\site-packages (from tensorflow==2.7.0->verstack) (3.10.0.2)\n",
      "Requirement already satisfied: termcolor>=1.1.0 in c:\\users\\nirga\\anaconda3\\lib\\site-packages (from tensorflow==2.7.0->verstack) (1.1.0)\n",
      "Requirement already satisfied: astunparse>=1.6.0 in c:\\users\\nirga\\anaconda3\\lib\\site-packages (from tensorflow==2.7.0->verstack) (1.6.3)\n",
      "Requirement already satisfied: tensorboard~=2.6 in c:\\users\\nirga\\anaconda3\\lib\\site-packages (from tensorflow==2.7.0->verstack) (2.9.1)\n",
      "Requirement already satisfied: libclang>=9.0.1 in c:\\users\\nirga\\anaconda3\\lib\\site-packages (from tensorflow==2.7.0->verstack) (14.0.6)\n",
      "Requirement already satisfied: absl-py>=0.4.0 in c:\\users\\nirga\\anaconda3\\lib\\site-packages (from tensorflow==2.7.0->verstack) (1.2.0)\n",
      "Requirement already satisfied: flatbuffers<3.0,>=1.12 in c:\\users\\nirga\\anaconda3\\lib\\site-packages (from tensorflow==2.7.0->verstack) (2.0)\n",
      "Requirement already satisfied: wrapt>=1.11.0 in c:\\users\\nirga\\anaconda3\\lib\\site-packages (from tensorflow==2.7.0->verstack) (1.12.1)\n",
      "Requirement already satisfied: opt-einsum>=2.3.2 in c:\\users\\nirga\\anaconda3\\lib\\site-packages (from tensorflow==2.7.0->verstack) (3.3.0)\n",
      "Requirement already satisfied: gast<0.5.0,>=0.2.1 in c:\\users\\nirga\\anaconda3\\lib\\site-packages (from tensorflow==2.7.0->verstack) (0.4.0)\n",
      "Requirement already satisfied: pymeeus<=1,>=0.3.13 in c:\\users\\nirga\\anaconda3\\lib\\site-packages (from convertdate>=2.3.0->holidays==0.11.3.1->verstack) (0.5.11)\n",
      "Requirement already satisfied: pyparsing>=2.0.2 in c:\\users\\nirga\\anaconda3\\lib\\site-packages (from packaging>=20.0->optuna==2.10.0->verstack) (3.0.4)\n",
      "Requirement already satisfied: pytz>=2017.3 in c:\\users\\nirga\\anaconda3\\lib\\site-packages (from pandas->verstack) (2021.3)\n",
      "Requirement already satisfied: greenlet!=0.4.17 in c:\\users\\nirga\\anaconda3\\lib\\site-packages (from sqlalchemy>=1.1.0->optuna==2.10.0->verstack) (1.1.1)\n",
      "Requirement already satisfied: google-auth-oauthlib<0.5,>=0.4.1 in c:\\users\\nirga\\anaconda3\\lib\\site-packages (from tensorboard~=2.6->tensorflow==2.7.0->verstack) (0.4.6)\n",
      "Requirement already satisfied: setuptools>=41.0.0 in c:\\users\\nirga\\anaconda3\\lib\\site-packages (from tensorboard~=2.6->tensorflow==2.7.0->verstack) (58.0.4)\n",
      "Requirement already satisfied: requests<3,>=2.21.0 in c:\\users\\nirga\\anaconda3\\lib\\site-packages (from tensorboard~=2.6->tensorflow==2.7.0->verstack) (2.26.0)\n",
      "Requirement already satisfied: markdown>=2.6.8 in c:\\users\\nirga\\anaconda3\\lib\\site-packages (from tensorboard~=2.6->tensorflow==2.7.0->verstack) (3.4.1)\n",
      "Requirement already satisfied: tensorboard-plugin-wit>=1.6.0 in c:\\users\\nirga\\anaconda3\\lib\\site-packages (from tensorboard~=2.6->tensorflow==2.7.0->verstack) (1.8.1)\n",
      "Requirement already satisfied: werkzeug>=1.0.1 in c:\\users\\nirga\\anaconda3\\lib\\site-packages (from tensorboard~=2.6->tensorflow==2.7.0->verstack) (2.0.2)\n",
      "Requirement already satisfied: google-auth<3,>=1.6.3 in c:\\users\\nirga\\anaconda3\\lib\\site-packages (from tensorboard~=2.6->tensorflow==2.7.0->verstack) (2.9.1)\n",
      "Requirement already satisfied: tensorboard-data-server<0.7.0,>=0.6.0 in c:\\users\\nirga\\anaconda3\\lib\\site-packages (from tensorboard~=2.6->tensorflow==2.7.0->verstack) (0.6.1)\n",
      "Requirement already satisfied: pyasn1-modules>=0.2.1 in c:\\users\\nirga\\anaconda3\\lib\\site-packages (from google-auth<3,>=1.6.3->tensorboard~=2.6->tensorflow==2.7.0->verstack) (0.2.8)\n",
      "Requirement already satisfied: rsa<5,>=3.1.4 in c:\\users\\nirga\\anaconda3\\lib\\site-packages (from google-auth<3,>=1.6.3->tensorboard~=2.6->tensorflow==2.7.0->verstack) (4.9)\n",
      "Requirement already satisfied: cachetools<6.0,>=2.0.0 in c:\\users\\nirga\\anaconda3\\lib\\site-packages (from google-auth<3,>=1.6.3->tensorboard~=2.6->tensorflow==2.7.0->verstack) (5.2.0)\n",
      "Requirement already satisfied: requests-oauthlib>=0.7.0 in c:\\users\\nirga\\anaconda3\\lib\\site-packages (from google-auth-oauthlib<0.5,>=0.4.1->tensorboard~=2.6->tensorflow==2.7.0->verstack) (1.3.1)\n",
      "Requirement already satisfied: importlib-metadata>=4.4 in c:\\users\\nirga\\anaconda3\\lib\\site-packages (from markdown>=2.6.8->tensorboard~=2.6->tensorflow==2.7.0->verstack) (4.8.1)\n",
      "Requirement already satisfied: zipp>=0.5 in c:\\users\\nirga\\anaconda3\\lib\\site-packages (from importlib-metadata>=4.4->markdown>=2.6.8->tensorboard~=2.6->tensorflow==2.7.0->verstack) (3.6.0)\n",
      "Requirement already satisfied: pyasn1<0.5.0,>=0.4.6 in c:\\users\\nirga\\anaconda3\\lib\\site-packages (from pyasn1-modules>=0.2.1->google-auth<3,>=1.6.3->tensorboard~=2.6->tensorflow==2.7.0->verstack) (0.4.8)\n",
      "Requirement already satisfied: idna<4,>=2.5 in c:\\users\\nirga\\anaconda3\\lib\\site-packages (from requests<3,>=2.21.0->tensorboard~=2.6->tensorflow==2.7.0->verstack) (3.2)\n",
      "Requirement already satisfied: urllib3<1.27,>=1.21.1 in c:\\users\\nirga\\anaconda3\\lib\\site-packages (from requests<3,>=2.21.0->tensorboard~=2.6->tensorflow==2.7.0->verstack) (1.26.7)\n",
      "Requirement already satisfied: charset-normalizer~=2.0.0 in c:\\users\\nirga\\anaconda3\\lib\\site-packages (from requests<3,>=2.21.0->tensorboard~=2.6->tensorflow==2.7.0->verstack) (2.0.4)\n",
      "Requirement already satisfied: certifi>=2017.4.17 in c:\\users\\nirga\\anaconda3\\lib\\site-packages (from requests<3,>=2.21.0->tensorboard~=2.6->tensorflow==2.7.0->verstack) (2021.10.8)\n",
      "Requirement already satisfied: oauthlib>=3.0.0 in c:\\users\\nirga\\anaconda3\\lib\\site-packages (from requests-oauthlib>=0.7.0->google-auth-oauthlib<0.5,>=0.4.1->tensorboard~=2.6->tensorflow==2.7.0->verstack) (3.2.0)\n",
      "Requirement already satisfied: Mako in c:\\users\\nirga\\anaconda3\\lib\\site-packages (from alembic->optuna==2.10.0->verstack) (1.2.1)\n",
      "Requirement already satisfied: stevedore>=2.0.1 in c:\\users\\nirga\\anaconda3\\lib\\site-packages (from cliff->optuna==2.10.0->verstack) (4.0.0)\n",
      "Requirement already satisfied: cmd2>=1.0.0 in c:\\users\\nirga\\anaconda3\\lib\\site-packages (from cliff->optuna==2.10.0->verstack) (2.4.2)\n",
      "Requirement already satisfied: PrettyTable>=0.7.2 in c:\\users\\nirga\\anaconda3\\lib\\site-packages (from cliff->optuna==2.10.0->verstack) (3.3.0)\n",
      "Requirement already satisfied: autopage>=0.4.0 in c:\\users\\nirga\\anaconda3\\lib\\site-packages (from cliff->optuna==2.10.0->verstack) (0.5.1)\n",
      "Requirement already satisfied: pbr!=2.1.0,>=2.0.0 in c:\\users\\nirga\\anaconda3\\lib\\site-packages (from cliff->optuna==2.10.0->verstack) (5.9.0)\n",
      "Requirement already satisfied: pyreadline3 in c:\\users\\nirga\\anaconda3\\lib\\site-packages (from cmd2>=1.0.0->cliff->optuna==2.10.0->verstack) (3.4.1)\n",
      "Requirement already satisfied: wcwidth>=0.1.7 in c:\\users\\nirga\\anaconda3\\lib\\site-packages (from cmd2>=1.0.0->cliff->optuna==2.10.0->verstack) (0.2.5)\n",
      "Requirement already satisfied: attrs>=16.3.0 in c:\\users\\nirga\\anaconda3\\lib\\site-packages (from cmd2>=1.0.0->cliff->optuna==2.10.0->verstack) (21.2.0)\n",
      "Requirement already satisfied: pyperclip>=1.6 in c:\\users\\nirga\\anaconda3\\lib\\site-packages (from cmd2>=1.0.0->cliff->optuna==2.10.0->verstack) (1.8.2)\n",
      "Requirement already satisfied: colorama in c:\\users\\nirga\\anaconda3\\lib\\site-packages (from colorlog->optuna==2.10.0->verstack) (0.4.4)\n",
      "Requirement already satisfied: MarkupSafe>=0.9.2 in c:\\users\\nirga\\anaconda3\\lib\\site-packages (from Mako->alembic->optuna==2.10.0->verstack) (2.0.1)\n",
      "Requirement already satisfied: cycler>=0.10 in c:\\users\\nirga\\anaconda3\\lib\\site-packages (from matplotlib->verstack) (0.10.0)\n",
      "Requirement already satisfied: kiwisolver>=1.0.1 in c:\\users\\nirga\\anaconda3\\lib\\site-packages (from matplotlib->verstack) (1.3.1)\n",
      "Requirement already satisfied: pillow>=6.2.0 in c:\\users\\nirga\\anaconda3\\lib\\site-packages (from matplotlib->verstack) (8.4.0)\n"
     ]
    }
   ],
   "source": [
    "import pandas as pd\n",
    "import numpy as np\n",
    "from sklearn.model_selection import train_test_split\n",
    "from sklearn.linear_model import LinearRegression\n",
    "from sklearn.metrics import mean_squared_error\n",
    "from statsmodels.tsa.seasonal import seasonal_decompose\n",
    "import matplotlib.pyplot as plt\n",
    "import plotly.express as px\n",
    "import lightgbm as lgb\n",
    "# !pip install optuna\n",
    "# import optuna  \n",
    "# from optuna.integration import LightGBMPruningCallback\n",
    "!pip install verstack\n",
    "from verstack import LGBMTuner\n",
    "from sklearn.ensemble import RandomForestRegressor\n",
    "import pprint\n",
    "from sklearn.model_selection import RandomizedSearchCV\n",
    "from sklearn.metrics import make_scorer\n",
    "\n",
    "from sklearn.model_selection import TimeSeriesSplit, cross_val_score\n",
    "\n",
    "\n"
   ]
  },
  {
   "cell_type": "markdown",
   "id": "37d98671",
   "metadata": {},
   "source": [
    "# Import the data"
   ]
  },
  {
   "cell_type": "code",
   "execution_count": 40,
   "id": "7f6fde34",
   "metadata": {},
   "outputs": [],
   "source": [
    "data = pd.read_csv('taxi.csv', index_col=[0], parse_dates=[0])\n",
    "data.sort_index(inplace=True)\n",
    "data = data.resample('1H').sum()"
   ]
  },
  {
   "cell_type": "markdown",
   "id": "ee3c3aa7",
   "metadata": {},
   "source": [
    "# Examine the data"
   ]
  },
  {
   "cell_type": "code",
   "execution_count": 41,
   "id": "3120ee66",
   "metadata": {},
   "outputs": [
    {
     "name": "stdout",
     "output_type": "stream",
     "text": [
      "<class 'pandas.core.frame.DataFrame'>\n",
      "DatetimeIndex: 4416 entries, 2018-03-01 00:00:00 to 2018-08-31 23:00:00\n",
      "Freq: H\n",
      "Data columns (total 1 columns):\n",
      " #   Column      Non-Null Count  Dtype\n",
      "---  ------      --------------  -----\n",
      " 0   num_orders  4416 non-null   int64\n",
      "dtypes: int64(1)\n",
      "memory usage: 69.0 KB\n"
     ]
    }
   ],
   "source": [
    "data.info()"
   ]
  },
  {
   "cell_type": "markdown",
   "id": "2d425928",
   "metadata": {},
   "source": [
    "No missing values"
   ]
  },
  {
   "cell_type": "code",
   "execution_count": 42,
   "id": "0ca308d2",
   "metadata": {
    "scrolled": true
   },
   "outputs": [
    {
     "data": {
      "text/html": [
       "<div>\n",
       "<style scoped>\n",
       "    .dataframe tbody tr th:only-of-type {\n",
       "        vertical-align: middle;\n",
       "    }\n",
       "\n",
       "    .dataframe tbody tr th {\n",
       "        vertical-align: top;\n",
       "    }\n",
       "\n",
       "    .dataframe thead th {\n",
       "        text-align: right;\n",
       "    }\n",
       "</style>\n",
       "<table border=\"1\" class=\"dataframe\">\n",
       "  <thead>\n",
       "    <tr style=\"text-align: right;\">\n",
       "      <th></th>\n",
       "      <th>num_orders</th>\n",
       "    </tr>\n",
       "    <tr>\n",
       "      <th>datetime</th>\n",
       "      <th></th>\n",
       "    </tr>\n",
       "  </thead>\n",
       "  <tbody>\n",
       "    <tr>\n",
       "      <th>2018-03-01 00:00:00</th>\n",
       "      <td>124</td>\n",
       "    </tr>\n",
       "    <tr>\n",
       "      <th>2018-03-01 01:00:00</th>\n",
       "      <td>85</td>\n",
       "    </tr>\n",
       "    <tr>\n",
       "      <th>2018-03-01 02:00:00</th>\n",
       "      <td>71</td>\n",
       "    </tr>\n",
       "    <tr>\n",
       "      <th>2018-03-01 03:00:00</th>\n",
       "      <td>66</td>\n",
       "    </tr>\n",
       "    <tr>\n",
       "      <th>2018-03-01 04:00:00</th>\n",
       "      <td>43</td>\n",
       "    </tr>\n",
       "  </tbody>\n",
       "</table>\n",
       "</div>"
      ],
      "text/plain": [
       "                     num_orders\n",
       "datetime                       \n",
       "2018-03-01 00:00:00         124\n",
       "2018-03-01 01:00:00          85\n",
       "2018-03-01 02:00:00          71\n",
       "2018-03-01 03:00:00          66\n",
       "2018-03-01 04:00:00          43"
      ]
     },
     "execution_count": 42,
     "metadata": {},
     "output_type": "execute_result"
    }
   ],
   "source": [
    "data.head()"
   ]
  },
  {
   "cell_type": "markdown",
   "id": "856ac901",
   "metadata": {},
   "source": [
    "Starts from 2018-03-01 00:00:00"
   ]
  },
  {
   "cell_type": "code",
   "execution_count": 43,
   "id": "77274488",
   "metadata": {},
   "outputs": [
    {
     "data": {
      "text/html": [
       "<div>\n",
       "<style scoped>\n",
       "    .dataframe tbody tr th:only-of-type {\n",
       "        vertical-align: middle;\n",
       "    }\n",
       "\n",
       "    .dataframe tbody tr th {\n",
       "        vertical-align: top;\n",
       "    }\n",
       "\n",
       "    .dataframe thead th {\n",
       "        text-align: right;\n",
       "    }\n",
       "</style>\n",
       "<table border=\"1\" class=\"dataframe\">\n",
       "  <thead>\n",
       "    <tr style=\"text-align: right;\">\n",
       "      <th></th>\n",
       "      <th>num_orders</th>\n",
       "    </tr>\n",
       "    <tr>\n",
       "      <th>datetime</th>\n",
       "      <th></th>\n",
       "    </tr>\n",
       "  </thead>\n",
       "  <tbody>\n",
       "    <tr>\n",
       "      <th>2018-08-31 19:00:00</th>\n",
       "      <td>136</td>\n",
       "    </tr>\n",
       "    <tr>\n",
       "      <th>2018-08-31 20:00:00</th>\n",
       "      <td>154</td>\n",
       "    </tr>\n",
       "    <tr>\n",
       "      <th>2018-08-31 21:00:00</th>\n",
       "      <td>159</td>\n",
       "    </tr>\n",
       "    <tr>\n",
       "      <th>2018-08-31 22:00:00</th>\n",
       "      <td>223</td>\n",
       "    </tr>\n",
       "    <tr>\n",
       "      <th>2018-08-31 23:00:00</th>\n",
       "      <td>205</td>\n",
       "    </tr>\n",
       "  </tbody>\n",
       "</table>\n",
       "</div>"
      ],
      "text/plain": [
       "                     num_orders\n",
       "datetime                       \n",
       "2018-08-31 19:00:00         136\n",
       "2018-08-31 20:00:00         154\n",
       "2018-08-31 21:00:00         159\n",
       "2018-08-31 22:00:00         223\n",
       "2018-08-31 23:00:00         205"
      ]
     },
     "execution_count": 43,
     "metadata": {},
     "output_type": "execute_result"
    }
   ],
   "source": [
    "data.tail()"
   ]
  },
  {
   "cell_type": "markdown",
   "id": "7cbcf0da",
   "metadata": {},
   "source": [
    "End at 2018-08-31 23:00:00"
   ]
  },
  {
   "cell_type": "markdown",
   "id": "6b0315b8",
   "metadata": {},
   "source": [
    "# Analyse the data"
   ]
  },
  {
   "cell_type": "markdown",
   "id": "1383d90d",
   "metadata": {},
   "source": [
    "Let's break the orders into one contribute to the trend, seasonality and general noise "
   ]
  },
  {
   "cell_type": "code",
   "execution_count": 44,
   "id": "f757c6ac",
   "metadata": {},
   "outputs": [
    {
     "data": {
      "image/png": "[encoded data removed]",
      "text/plain": [
       "<Figure size 432x576 with 3 Axes>"
      ]
     },
     "metadata": {},
     "output_type": "display_data"
    }
   ],
   "source": [
    "decomposed = seasonal_decompose(data)\n",
    "\n",
    "plt.figure(figsize=(6, 8))\n",
    "plt.subplot(311)\n",
    "# To display the graph correctly, specify its\n",
    "# axes ax equal to plt.gca() (gca = get current axis)\n",
    "decomposed.trend.plot(ax=plt.gca())\n",
    "plt.title('Trend')\n",
    "plt.subplot(312)\n",
    "decomposed.seasonal.plot(ax=plt.gca())\n",
    "plt.title('Seasonality')\n",
    "plt.subplot(313)\n",
    "decomposed.resid.plot(ax=plt.gca())\n",
    "plt.title('Residuals')\n",
    "plt.tight_layout()"
   ]
  },
  {
   "cell_type": "markdown",
   "id": "1caff3d2",
   "metadata": {},
   "source": [
    "There is a obvious trend of increasing number of order in this period. The residuals stays almost the same. With Seasonality we have problem with this time sample. I guess that by sampeling shorter period we might learn more. I will take half month  "
   ]
  },
  {
   "cell_type": "code",
   "execution_count": 45,
   "id": "4111a770",
   "metadata": {},
   "outputs": [
    {
     "data": {
      "text/plain": [
       "<AxesSubplot:xlabel='datetime'>"
      ]
     },
     "execution_count": 45,
     "metadata": {},
     "output_type": "execute_result"
    },
    {
     "data": {
      "image/png": "[encoded data removed]",
      "text/plain": [
       "<Figure size 432x288 with 1 Axes>"
      ]
     },
     "metadata": {},
     "output_type": "display_data"
    }
   ],
   "source": [
    "new_data = decomposed.seasonal['2018-05-01':'2018-05-15']\n",
    "new_data.plot()"
   ]
  },
  {
   "cell_type": "markdown",
   "id": "aaf83500",
   "metadata": {},
   "source": [
    "Now it looks more obvious. I will try 3 days to make it clearer"
   ]
  },
  {
   "cell_type": "code",
   "execution_count": 46,
   "id": "e1685153",
   "metadata": {
    "scrolled": true
   },
   "outputs": [
    {
     "data": {
      "application/vnd.plotly.v1+json": {
       "config": {
        "plotlyServerURL": "https://plot.ly"
       },
       "data": [
        {
         "hovertemplate": "variable=seasonal<br>datetime=%{x}<br>value=%{y}<extra></extra>",
         "legendgroup": "seasonal",
         "line": {
          "color": "#636efa",
          "dash": "solid"
         },
         "marker": {
          "symbol": "circle"
         },
         "mode": "lines",
         "name": "seasonal",
         "orientation": "v",
         "showlegend": true,
         "type": "scatter",
         "x": [
          "2018-05-01T00:00:00",
          "2018-05-01T01:00:00",
          "2018-05-01T02:00:00",
          "2018-05-01T03:00:00",
          "2018-05-01T04:00:00",
          "2018-05-01T05:00:00",
          "2018-05-01T06:00:00",
          "2018-05-01T07:00:00",
          "2018-05-01T08:00:00",
          "2018-05-01T09:00:00",
          "2018-05-01T10:00:00",
          "2018-05-01T11:00:00",
          "2018-05-01T12:00:00",
          "2018-05-01T13:00:00",
          "2018-05-01T14:00:00",
          "2018-05-01T15:00:00",
          "2018-05-01T16:00:00",
          "2018-05-01T17:00:00",
          "2018-05-01T18:00:00",
          "2018-05-01T19:00:00",
          "2018-05-01T20:00:00",
          "2018-05-01T21:00:00",
          "2018-05-01T22:00:00",
          "2018-05-01T23:00:00",
          "2018-05-02T00:00:00",
          "2018-05-02T01:00:00",
          "2018-05-02T02:00:00",
          "2018-05-02T03:00:00",
          "2018-05-02T04:00:00",
          "2018-05-02T05:00:00",
          "2018-05-02T06:00:00",
          "2018-05-02T07:00:00",
          "2018-05-02T08:00:00",
          "2018-05-02T09:00:00",
          "2018-05-02T10:00:00",
          "2018-05-02T11:00:00",
          "2018-05-02T12:00:00",
          "2018-05-02T13:00:00",
          "2018-05-02T14:00:00",
          "2018-05-02T15:00:00",
          "2018-05-02T16:00:00",
          "2018-05-02T17:00:00",
          "2018-05-02T18:00:00",
          "2018-05-02T19:00:00",
          "2018-05-02T20:00:00",
          "2018-05-02T21:00:00",
          "2018-05-02T22:00:00",
          "2018-05-02T23:00:00",
          "2018-05-03T00:00:00",
          "2018-05-03T01:00:00",
          "2018-05-03T02:00:00",
          "2018-05-03T03:00:00",
          "2018-05-03T04:00:00",
          "2018-05-03T05:00:00",
          "2018-05-03T06:00:00",
          "2018-05-03T07:00:00",
          "2018-05-03T08:00:00",
          "2018-05-03T09:00:00",
          "2018-05-03T10:00:00",
          "2018-05-03T11:00:00",
          "2018-05-03T12:00:00",
          "2018-05-03T13:00:00",
          "2018-05-03T14:00:00",
          "2018-05-03T15:00:00",
          "2018-05-03T16:00:00",
          "2018-05-03T17:00:00",
          "2018-05-03T18:00:00",
          "2018-05-03T19:00:00",
          "2018-05-03T20:00:00",
          "2018-05-03T21:00:00",
          "2018-05-03T22:00:00",
          "2018-05-03T23:00:00"
         ],
         "xaxis": "x",
         "y": [
          60.24811209775349,
          20.177073846387362,
          28.982743245294472,
          17.88540717972071,
          2.79114488463874,
          -41.563021782027946,
          -59.182671144505164,
          -55.104460761991504,
          -11.212839632665446,
          4.443581132361866,
          8.759268746205228,
          -2.1333769732847596,
          -16.72160557073468,
          -13.352411581663626,
          -9.191664769277477,
          3.7318324984820874,
          29.604100258044927,
          7.920015558591379,
          -15.527958029751066,
          -7.1242695051609015,
          -2.6965600333940487,
          10.67024324529448,
          13.596814283545854,
          25.000502808136027,
          60.24811209775349,
          20.177073846387362,
          28.982743245294472,
          17.88540717972071,
          2.79114488463874,
          -41.563021782027946,
          -59.182671144505164,
          -55.104460761991504,
          -11.212839632665446,
          4.443581132361866,
          8.759268746205228,
          -2.1333769732847596,
          -16.72160557073468,
          -13.352411581663626,
          -9.191664769277477,
          3.7318324984820874,
          29.604100258044927,
          7.920015558591379,
          -15.527958029751066,
          -7.1242695051609015,
          -2.6965600333940487,
          10.67024324529448,
          13.596814283545854,
          25.000502808136027,
          60.24811209775349,
          20.177073846387362,
          28.982743245294472,
          17.88540717972071,
          2.79114488463874,
          -41.563021782027946,
          -59.182671144505164,
          -55.104460761991504,
          -11.212839632665446,
          4.443581132361866,
          8.759268746205228,
          -2.1333769732847596,
          -16.72160557073468,
          -13.352411581663626,
          -9.191664769277477,
          3.7318324984820874,
          29.604100258044927,
          7.920015558591379,
          -15.527958029751066,
          -7.1242695051609015,
          -2.6965600333940487,
          10.67024324529448,
          13.596814283545854,
          25.000502808136027
         ],
         "yaxis": "y"
        }
       ],
       "layout": {
        "legend": {
         "title": {
          "text": "variable"
         },
         "tracegroupgap": 0
        },
        "margin": {
         "t": 60
        },
        "template": {
         "data": {
          "bar": [
           {
            "error_x": {
             "color": "#2a3f5f"
            },
            "error_y": {
             "color": "#2a3f5f"
            },
            "marker": {
             "line": {
              "color": "#E5ECF6",
              "width": 0.5
             },
             "pattern": {
              "fillmode": "overlay",
              "size": 10,
              "solidity": 0.2
             }
            },
            "type": "bar"
           }
          ],
          "barpolar": [
           {
            "marker": {
             "line": {
              "color": "#E5ECF6",
              "width": 0.5
             },
             "pattern": {
              "fillmode": "overlay",
              "size": 10,
              "solidity": 0.2
             }
            },
            "type": "barpolar"
           }
          ],
          "carpet": [
           {
            "aaxis": {
             "endlinecolor": "#2a3f5f",
             "gridcolor": "white",
             "linecolor": "white",
             "minorgridcolor": "white",
             "startlinecolor": "#2a3f5f"
            },
            "baxis": {
             "endlinecolor": "#2a3f5f",
             "gridcolor": "white",
             "linecolor": "white",
             "minorgridcolor": "white",
             "startlinecolor": "#2a3f5f"
            },
            "type": "carpet"
           }
          ],
          "choropleth": [
           {
            "colorbar": {
             "outlinewidth": 0,
             "ticks": ""
            },
            "type": "choropleth"
           }
          ],
          "contour": [
           {
            "colorbar": {
             "outlinewidth": 0,
             "ticks": ""
            },
            "colorscale": [
             [
              0,
              "#0d0887"
             ],
             [
              0.1111111111111111,
              "#46039f"
             ],
             [
              0.2222222222222222,
              "#7201a8"
             ],
             [
              0.3333333333333333,
              "#9c179e"
             ],
             [
              0.4444444444444444,
              "#bd3786"
             ],
             [
              0.5555555555555556,
              "#d8576b"
             ],
             [
              0.6666666666666666,
              "#ed7953"
             ],
             [
              0.7777777777777778,
              "#fb9f3a"
             ],
             [
              0.8888888888888888,
              "#fdca26"
             ],
             [
              1,
              "#f0f921"
             ]
            ],
            "type": "contour"
           }
          ],
          "contourcarpet": [
           {
            "colorbar": {
             "outlinewidth": 0,
             "ticks": ""
            },
            "type": "contourcarpet"
           }
          ],
          "heatmap": [
           {
            "colorbar": {
             "outlinewidth": 0,
             "ticks": ""
            },
            "colorscale": [
             [
              0,
              "#0d0887"
             ],
             [
              0.1111111111111111,
              "#46039f"
             ],
             [
              0.2222222222222222,
              "#7201a8"
             ],
             [
              0.3333333333333333,
              "#9c179e"
             ],
             [
              0.4444444444444444,
              "#bd3786"
             ],
             [
              0.5555555555555556,
              "#d8576b"
             ],
             [
              0.6666666666666666,
              "#ed7953"
             ],
             [
              0.7777777777777778,
              "#fb9f3a"
             ],
             [
              0.8888888888888888,
              "#fdca26"
             ],
             [
              1,
              "#f0f921"
             ]
            ],
            "type": "heatmap"
           }
          ],
          "heatmapgl": [
           {
            "colorbar": {
             "outlinewidth": 0,
             "ticks": ""
            },
            "colorscale": [
             [
              0,
              "#0d0887"
             ],
             [
              0.1111111111111111,
              "#46039f"
             ],
             [
              0.2222222222222222,
              "#7201a8"
             ],
             [
              0.3333333333333333,
              "#9c179e"
             ],
             [
              0.4444444444444444,
              "#bd3786"
             ],
             [
              0.5555555555555556,
              "#d8576b"
             ],
             [
              0.6666666666666666,
              "#ed7953"
             ],
             [
              0.7777777777777778,
              "#fb9f3a"
             ],
             [
              0.8888888888888888,
              "#fdca26"
             ],
             [
              1,
              "#f0f921"
             ]
            ],
            "type": "heatmapgl"
           }
          ],
          "histogram": [
           {
            "marker": {
             "pattern": {
              "fillmode": "overlay",
              "size": 10,
              "solidity": 0.2
             }
            },
            "type": "histogram"
           }
          ],
          "histogram2d": [
           {
            "colorbar": {
             "outlinewidth": 0,
             "ticks": ""
            },
            "colorscale": [
             [
              0,
              "#0d0887"
             ],
             [
              0.1111111111111111,
              "#46039f"
             ],
             [
              0.2222222222222222,
              "#7201a8"
             ],
             [
              0.3333333333333333,
              "#9c179e"
             ],
             [
              0.4444444444444444,
              "#bd3786"
             ],
             [
              0.5555555555555556,
              "#d8576b"
             ],
             [
              0.6666666666666666,
              "#ed7953"
             ],
             [
              0.7777777777777778,
              "#fb9f3a"
             ],
             [
              0.8888888888888888,
              "#fdca26"
             ],
             [
              1,
              "#f0f921"
             ]
            ],
            "type": "histogram2d"
           }
          ],
          "histogram2dcontour": [
           {
            "colorbar": {
             "outlinewidth": 0,
             "ticks": ""
            },
            "colorscale": [
             [
              0,
              "#0d0887"
             ],
             [
              0.1111111111111111,
              "#46039f"
             ],
             [
              0.2222222222222222,
              "#7201a8"
             ],
             [
              0.3333333333333333,
              "#9c179e"
             ],
             [
              0.4444444444444444,
              "#bd3786"
             ],
             [
              0.5555555555555556,
              "#d8576b"
             ],
             [
              0.6666666666666666,
              "#ed7953"
             ],
             [
              0.7777777777777778,
              "#fb9f3a"
             ],
             [
              0.8888888888888888,
              "#fdca26"
             ],
             [
              1,
              "#f0f921"
             ]
            ],
            "type": "histogram2dcontour"
           }
          ],
          "mesh3d": [
           {
            "colorbar": {
             "outlinewidth": 0,
             "ticks": ""
            },
            "type": "mesh3d"
           }
          ],
          "parcoords": [
           {
            "line": {
             "colorbar": {
              "outlinewidth": 0,
              "ticks": ""
             }
            },
            "type": "parcoords"
           }
          ],
          "pie": [
           {
            "automargin": true,
            "type": "pie"
           }
          ],
          "scatter": [
           {
            "marker": {
             "colorbar": {
              "outlinewidth": 0,
              "ticks": ""
             }
            },
            "type": "scatter"
           }
          ],
          "scatter3d": [
           {
            "line": {
             "colorbar": {
              "outlinewidth": 0,
              "ticks": ""
             }
            },
            "marker": {
             "colorbar": {
              "outlinewidth": 0,
              "ticks": ""
             }
            },
            "type": "scatter3d"
           }
          ],
          "scattercarpet": [
           {
            "marker": {
             "colorbar": {
              "outlinewidth": 0,
              "ticks": ""
             }
            },
            "type": "scattercarpet"
           }
          ],
          "scattergeo": [
           {
            "marker": {
             "colorbar": {
              "outlinewidth": 0,
              "ticks": ""
             }
            },
            "type": "scattergeo"
           }
          ],
          "scattergl": [
           {
            "marker": {
             "colorbar": {
              "outlinewidth": 0,
              "ticks": ""
             }
            },
            "type": "scattergl"
           }
          ],
          "scattermapbox": [
           {
            "marker": {
             "colorbar": {
              "outlinewidth": 0,
              "ticks": ""
             }
            },
            "type": "scattermapbox"
           }
          ],
          "scatterpolar": [
           {
            "marker": {
             "colorbar": {
              "outlinewidth": 0,
              "ticks": ""
             }
            },
            "type": "scatterpolar"
           }
          ],
          "scatterpolargl": [
           {
            "marker": {
             "colorbar": {
              "outlinewidth": 0,
              "ticks": ""
             }
            },
            "type": "scatterpolargl"
           }
          ],
          "scatterternary": [
           {
            "marker": {
             "colorbar": {
              "outlinewidth": 0,
              "ticks": ""
             }
            },
            "type": "scatterternary"
           }
          ],
          "surface": [
           {
            "colorbar": {
             "outlinewidth": 0,
             "ticks": ""
            },
            "colorscale": [
             [
              0,
              "#0d0887"
             ],
             [
              0.1111111111111111,
              "#46039f"
             ],
             [
              0.2222222222222222,
              "#7201a8"
             ],
             [
              0.3333333333333333,
              "#9c179e"
             ],
             [
              0.4444444444444444,
              "#bd3786"
             ],
             [
              0.5555555555555556,
              "#d8576b"
             ],
             [
              0.6666666666666666,
              "#ed7953"
             ],
             [
              0.7777777777777778,
              "#fb9f3a"
             ],
             [
              0.8888888888888888,
              "#fdca26"
             ],
             [
              1,
              "#f0f921"
             ]
            ],
            "type": "surface"
           }
          ],
          "table": [
           {
            "cells": {
             "fill": {
              "color": "#EBF0F8"
             },
             "line": {
              "color": "white"
             }
            },
            "header": {
             "fill": {
              "color": "#C8D4E3"
             },
             "line": {
              "color": "white"
             }
            },
            "type": "table"
           }
          ]
         },
         "layout": {
          "annotationdefaults": {
           "arrowcolor": "#2a3f5f",
           "arrowhead": 0,
           "arrowwidth": 1
          },
          "autotypenumbers": "strict",
          "coloraxis": {
           "colorbar": {
            "outlinewidth": 0,
            "ticks": ""
           }
          },
          "colorscale": {
           "diverging": [
            [
             0,
             "#8e0152"
            ],
            [
             0.1,
             "#c51b7d"
            ],
            [
             0.2,
             "#de77ae"
            ],
            [
             0.3,
             "#f1b6da"
            ],
            [
             0.4,
             "#fde0ef"
            ],
            [
             0.5,
             "#f7f7f7"
            ],
            [
             0.6,
             "#e6f5d0"
            ],
            [
             0.7,
             "#b8e186"
            ],
            [
             0.8,
             "#7fbc41"
            ],
            [
             0.9,
             "#4d9221"
            ],
            [
             1,
             "#276419"
            ]
           ],
           "sequential": [
            [
             0,
             "#0d0887"
            ],
            [
             0.1111111111111111,
             "#46039f"
            ],
            [
             0.2222222222222222,
             "#7201a8"
            ],
            [
             0.3333333333333333,
             "#9c179e"
            ],
            [
             0.4444444444444444,
             "#bd3786"
            ],
            [
             0.5555555555555556,
             "#d8576b"
            ],
            [
             0.6666666666666666,
             "#ed7953"
            ],
            [
             0.7777777777777778,
             "#fb9f3a"
            ],
            [
             0.8888888888888888,
             "#fdca26"
            ],
            [
             1,
             "#f0f921"
            ]
           ],
           "sequentialminus": [
            [
             0,
             "#0d0887"
            ],
            [
             0.1111111111111111,
             "#46039f"
            ],
            [
             0.2222222222222222,
             "#7201a8"
            ],
            [
             0.3333333333333333,
             "#9c179e"
            ],
            [
             0.4444444444444444,
             "#bd3786"
            ],
            [
             0.5555555555555556,
             "#d8576b"
            ],
            [
             0.6666666666666666,
             "#ed7953"
            ],
            [
             0.7777777777777778,
             "#fb9f3a"
            ],
            [
             0.8888888888888888,
             "#fdca26"
            ],
            [
             1,
             "#f0f921"
            ]
           ]
          },
          "colorway": [
           "#636efa",
           "#EF553B",
           "#00cc96",
           "#ab63fa",
           "#FFA15A",
           "#19d3f3",
           "#FF6692",
           "#B6E880",
           "#FF97FF",
           "#FECB52"
          ],
          "font": {
           "color": "#2a3f5f"
          },
          "geo": {
           "bgcolor": "white",
           "lakecolor": "white",
           "landcolor": "#E5ECF6",
           "showlakes": true,
           "showland": true,
           "subunitcolor": "white"
          },
          "hoverlabel": {
           "align": "left"
          },
          "hovermode": "closest",
          "mapbox": {
           "style": "light"
          },
          "paper_bgcolor": "white",
          "plot_bgcolor": "#E5ECF6",
          "polar": {
           "angularaxis": {
            "gridcolor": "white",
            "linecolor": "white",
            "ticks": ""
           },
           "bgcolor": "#E5ECF6",
           "radialaxis": {
            "gridcolor": "white",
            "linecolor": "white",
            "ticks": ""
           }
          },
          "scene": {
           "xaxis": {
            "backgroundcolor": "#E5ECF6",
            "gridcolor": "white",
            "gridwidth": 2,
            "linecolor": "white",
            "showbackground": true,
            "ticks": "",
            "zerolinecolor": "white"
           },
           "yaxis": {
            "backgroundcolor": "#E5ECF6",
            "gridcolor": "white",
            "gridwidth": 2,
            "linecolor": "white",
            "showbackground": true,
            "ticks": "",
            "zerolinecolor": "white"
           },
           "zaxis": {
            "backgroundcolor": "#E5ECF6",
            "gridcolor": "white",
            "gridwidth": 2,
            "linecolor": "white",
            "showbackground": true,
            "ticks": "",
            "zerolinecolor": "white"
           }
          },
          "shapedefaults": {
           "line": {
            "color": "#2a3f5f"
           }
          },
          "ternary": {
           "aaxis": {
            "gridcolor": "white",
            "linecolor": "white",
            "ticks": ""
           },
           "baxis": {
            "gridcolor": "white",
            "linecolor": "white",
            "ticks": ""
           },
           "bgcolor": "#E5ECF6",
           "caxis": {
            "gridcolor": "white",
            "linecolor": "white",
            "ticks": ""
           }
          },
          "title": {
           "x": 0.05
          },
          "xaxis": {
           "automargin": true,
           "gridcolor": "white",
           "linecolor": "white",
           "ticks": "",
           "title": {
            "standoff": 15
           },
           "zerolinecolor": "white",
           "zerolinewidth": 2
          },
          "yaxis": {
           "automargin": true,
           "gridcolor": "white",
           "linecolor": "white",
           "ticks": "",
           "title": {
            "standoff": 15
           },
           "zerolinecolor": "white",
           "zerolinewidth": 2
          }
         }
        },
        "xaxis": {
         "anchor": "y",
         "domain": [
          0,
          1
         ],
         "title": {
          "text": "datetime"
         }
        },
        "yaxis": {
         "anchor": "x",
         "domain": [
          0,
          1
         ],
         "title": {
          "text": "value"
         }
        }
       }
      },
      "text/html": [
       "<div>                            <div id=\"74f5a50f-8716-4fd1-9e26-50d60289afc5\" class=\"plotly-graph-div\" style=\"height:525px; width:100%;\"></div>            <script type=\"text/javascript\">                require([\"plotly\"], function(Plotly) {                    window.PLOTLYENV=window.PLOTLYENV || {};                                    if (document.getElementById(\"74f5a50f-8716-4fd1-9e26-50d60289afc5\")) {                    Plotly.newPlot(                        \"74f5a50f-8716-4fd1-9e26-50d60289afc5\",                        [{\"hovertemplate\":\"variable=seasonal<br>datetime=%{x}<br>value=%{y}<extra></extra>\",\"legendgroup\":\"seasonal\",\"line\":{\"color\":\"#636efa\",\"dash\":\"solid\"},\"marker\":{\"symbol\":\"circle\"},\"mode\":\"lines\",\"name\":\"seasonal\",\"orientation\":\"v\",\"showlegend\":true,\"type\":\"scatter\",\"x\":[\"2018-05-01T00:00:00\",\"2018-05-01T01:00:00\",\"2018-05-01T02:00:00\",\"2018-05-01T03:00:00\",\"2018-05-01T04:00:00\",\"2018-05-01T05:00:00\",\"2018-05-01T06:00:00\",\"2018-05-01T07:00:00\",\"2018-05-01T08:00:00\",\"2018-05-01T09:00:00\",\"2018-05-01T10:00:00\",\"2018-05-01T11:00:00\",\"2018-05-01T12:00:00\",\"2018-05-01T13:00:00\",\"2018-05-01T14:00:00\",\"2018-05-01T15:00:00\",\"2018-05-01T16:00:00\",\"2018-05-01T17:00:00\",\"2018-05-01T18:00:00\",\"2018-05-01T19:00:00\",\"2018-05-01T20:00:00\",\"2018-05-01T21:00:00\",\"2018-05-01T22:00:00\",\"2018-05-01T23:00:00\",\"2018-05-02T00:00:00\",\"2018-05-02T01:00:00\",\"2018-05-02T02:00:00\",\"2018-05-02T03:00:00\",\"2018-05-02T04:00:00\",\"2018-05-02T05:00:00\",\"2018-05-02T06:00:00\",\"2018-05-02T07:00:00\",\"2018-05-02T08:00:00\",\"2018-05-02T09:00:00\",\"2018-05-02T10:00:00\",\"2018-05-02T11:00:00\",\"2018-05-02T12:00:00\",\"2018-05-02T13:00:00\",\"2018-05-02T14:00:00\",\"2018-05-02T15:00:00\",\"2018-05-02T16:00:00\",\"2018-05-02T17:00:00\",\"2018-05-02T18:00:00\",\"2018-05-02T19:00:00\",\"2018-05-02T20:00:00\",\"2018-05-02T21:00:00\",\"2018-05-02T22:00:00\",\"2018-05-02T23:00:00\",\"2018-05-03T00:00:00\",\"2018-05-03T01:00:00\",\"2018-05-03T02:00:00\",\"2018-05-03T03:00:00\",\"2018-05-03T04:00:00\",\"2018-05-03T05:00:00\",\"2018-05-03T06:00:00\",\"2018-05-03T07:00:00\",\"2018-05-03T08:00:00\",\"2018-05-03T09:00:00\",\"2018-05-03T10:00:00\",\"2018-05-03T11:00:00\",\"2018-05-03T12:00:00\",\"2018-05-03T13:00:00\",\"2018-05-03T14:00:00\",\"2018-05-03T15:00:00\",\"2018-05-03T16:00:00\",\"2018-05-03T17:00:00\",\"2018-05-03T18:00:00\",\"2018-05-03T19:00:00\",\"2018-05-03T20:00:00\",\"2018-05-03T21:00:00\",\"2018-05-03T22:00:00\",\"2018-05-03T23:00:00\"],\"xaxis\":\"x\",\"y\":[60.24811209775349,20.177073846387362,28.982743245294472,17.88540717972071,2.79114488463874,-41.563021782027946,-59.182671144505164,-55.104460761991504,-11.212839632665446,4.443581132361866,8.759268746205228,-2.1333769732847596,-16.72160557073468,-13.352411581663626,-9.191664769277477,3.7318324984820874,29.604100258044927,7.920015558591379,-15.527958029751066,-7.1242695051609015,-2.6965600333940487,10.67024324529448,13.596814283545854,25.000502808136027,60.24811209775349,20.177073846387362,28.982743245294472,17.88540717972071,2.79114488463874,-41.563021782027946,-59.182671144505164,-55.104460761991504,-11.212839632665446,4.443581132361866,8.759268746205228,-2.1333769732847596,-16.72160557073468,-13.352411581663626,-9.191664769277477,3.7318324984820874,29.604100258044927,7.920015558591379,-15.527958029751066,-7.1242695051609015,-2.6965600333940487,10.67024324529448,13.596814283545854,25.000502808136027,60.24811209775349,20.177073846387362,28.982743245294472,17.88540717972071,2.79114488463874,-41.563021782027946,-59.182671144505164,-55.104460761991504,-11.212839632665446,4.443581132361866,8.759268746205228,-2.1333769732847596,-16.72160557073468,-13.352411581663626,-9.191664769277477,3.7318324984820874,29.604100258044927,7.920015558591379,-15.527958029751066,-7.1242695051609015,-2.6965600333940487,10.67024324529448,13.596814283545854,25.000502808136027],\"yaxis\":\"y\"}],                        {\"legend\":{\"title\":{\"text\":\"variable\"},\"tracegroupgap\":0},\"margin\":{\"t\":60},\"template\":{\"data\":{\"bar\":[{\"error_x\":{\"color\":\"#2a3f5f\"},\"error_y\":{\"color\":\"#2a3f5f\"},\"marker\":{\"line\":{\"color\":\"#E5ECF6\",\"width\":0.5},\"pattern\":{\"fillmode\":\"overlay\",\"size\":10,\"solidity\":0.2}},\"type\":\"bar\"}],\"barpolar\":[{\"marker\":{\"line\":{\"color\":\"#E5ECF6\",\"width\":0.5},\"pattern\":{\"fillmode\":\"overlay\",\"size\":10,\"solidity\":0.2}},\"type\":\"barpolar\"}],\"carpet\":[{\"aaxis\":{\"endlinecolor\":\"#2a3f5f\",\"gridcolor\":\"white\",\"linecolor\":\"white\",\"minorgridcolor\":\"white\",\"startlinecolor\":\"#2a3f5f\"},\"baxis\":{\"endlinecolor\":\"#2a3f5f\",\"gridcolor\":\"white\",\"linecolor\":\"white\",\"minorgridcolor\":\"white\",\"startlinecolor\":\"#2a3f5f\"},\"type\":\"carpet\"}],\"choropleth\":[{\"colorbar\":{\"outlinewidth\":0,\"ticks\":\"\"},\"type\":\"choropleth\"}],\"contour\":[{\"colorbar\":{\"outlinewidth\":0,\"ticks\":\"\"},\"colorscale\":[[0.0,\"#0d0887\"],[0.1111111111111111,\"#46039f\"],[0.2222222222222222,\"#7201a8\"],[0.3333333333333333,\"#9c179e\"],[0.4444444444444444,\"#bd3786\"],[0.5555555555555556,\"#d8576b\"],[0.6666666666666666,\"#ed7953\"],[0.7777777777777778,\"#fb9f3a\"],[0.8888888888888888,\"#fdca26\"],[1.0,\"#f0f921\"]],\"type\":\"contour\"}],\"contourcarpet\":[{\"colorbar\":{\"outlinewidth\":0,\"ticks\":\"\"},\"type\":\"contourcarpet\"}],\"heatmap\":[{\"colorbar\":{\"outlinewidth\":0,\"ticks\":\"\"},\"colorscale\":[[0.0,\"#0d0887\"],[0.1111111111111111,\"#46039f\"],[0.2222222222222222,\"#7201a8\"],[0.3333333333333333,\"#9c179e\"],[0.4444444444444444,\"#bd3786\"],[0.5555555555555556,\"#d8576b\"],[0.6666666666666666,\"#ed7953\"],[0.7777777777777778,\"#fb9f3a\"],[0.8888888888888888,\"#fdca26\"],[1.0,\"#f0f921\"]],\"type\":\"heatmap\"}],\"heatmapgl\":[{\"colorbar\":{\"outlinewidth\":0,\"ticks\":\"\"},\"colorscale\":[[0.0,\"#0d0887\"],[0.1111111111111111,\"#46039f\"],[0.2222222222222222,\"#7201a8\"],[0.3333333333333333,\"#9c179e\"],[0.4444444444444444,\"#bd3786\"],[0.5555555555555556,\"#d8576b\"],[0.6666666666666666,\"#ed7953\"],[0.7777777777777778,\"#fb9f3a\"],[0.8888888888888888,\"#fdca26\"],[1.0,\"#f0f921\"]],\"type\":\"heatmapgl\"}],\"histogram\":[{\"marker\":{\"pattern\":{\"fillmode\":\"overlay\",\"size\":10,\"solidity\":0.2}},\"type\":\"histogram\"}],\"histogram2d\":[{\"colorbar\":{\"outlinewidth\":0,\"ticks\":\"\"},\"colorscale\":[[0.0,\"#0d0887\"],[0.1111111111111111,\"#46039f\"],[0.2222222222222222,\"#7201a8\"],[0.3333333333333333,\"#9c179e\"],[0.4444444444444444,\"#bd3786\"],[0.5555555555555556,\"#d8576b\"],[0.6666666666666666,\"#ed7953\"],[0.7777777777777778,\"#fb9f3a\"],[0.8888888888888888,\"#fdca26\"],[1.0,\"#f0f921\"]],\"type\":\"histogram2d\"}],\"histogram2dcontour\":[{\"colorbar\":{\"outlinewidth\":0,\"ticks\":\"\"},\"colorscale\":[[0.0,\"#0d0887\"],[0.1111111111111111,\"#46039f\"],[0.2222222222222222,\"#7201a8\"],[0.3333333333333333,\"#9c179e\"],[0.4444444444444444,\"#bd3786\"],[0.5555555555555556,\"#d8576b\"],[0.6666666666666666,\"#ed7953\"],[0.7777777777777778,\"#fb9f3a\"],[0.8888888888888888,\"#fdca26\"],[1.0,\"#f0f921\"]],\"type\":\"histogram2dcontour\"}],\"mesh3d\":[{\"colorbar\":{\"outlinewidth\":0,\"ticks\":\"\"},\"type\":\"mesh3d\"}],\"parcoords\":[{\"line\":{\"colorbar\":{\"outlinewidth\":0,\"ticks\":\"\"}},\"type\":\"parcoords\"}],\"pie\":[{\"automargin\":true,\"type\":\"pie\"}],\"scatter\":[{\"marker\":{\"colorbar\":{\"outlinewidth\":0,\"ticks\":\"\"}},\"type\":\"scatter\"}],\"scatter3d\":[{\"line\":{\"colorbar\":{\"outlinewidth\":0,\"ticks\":\"\"}},\"marker\":{\"colorbar\":{\"outlinewidth\":0,\"ticks\":\"\"}},\"type\":\"scatter3d\"}],\"scattercarpet\":[{\"marker\":{\"colorbar\":{\"outlinewidth\":0,\"ticks\":\"\"}},\"type\":\"scattercarpet\"}],\"scattergeo\":[{\"marker\":{\"colorbar\":{\"outlinewidth\":0,\"ticks\":\"\"}},\"type\":\"scattergeo\"}],\"scattergl\":[{\"marker\":{\"colorbar\":{\"outlinewidth\":0,\"ticks\":\"\"}},\"type\":\"scattergl\"}],\"scattermapbox\":[{\"marker\":{\"colorbar\":{\"outlinewidth\":0,\"ticks\":\"\"}},\"type\":\"scattermapbox\"}],\"scatterpolar\":[{\"marker\":{\"colorbar\":{\"outlinewidth\":0,\"ticks\":\"\"}},\"type\":\"scatterpolar\"}],\"scatterpolargl\":[{\"marker\":{\"colorbar\":{\"outlinewidth\":0,\"ticks\":\"\"}},\"type\":\"scatterpolargl\"}],\"scatterternary\":[{\"marker\":{\"colorbar\":{\"outlinewidth\":0,\"ticks\":\"\"}},\"type\":\"scatterternary\"}],\"surface\":[{\"colorbar\":{\"outlinewidth\":0,\"ticks\":\"\"},\"colorscale\":[[0.0,\"#0d0887\"],[0.1111111111111111,\"#46039f\"],[0.2222222222222222,\"#7201a8\"],[0.3333333333333333,\"#9c179e\"],[0.4444444444444444,\"#bd3786\"],[0.5555555555555556,\"#d8576b\"],[0.6666666666666666,\"#ed7953\"],[0.7777777777777778,\"#fb9f3a\"],[0.8888888888888888,\"#fdca26\"],[1.0,\"#f0f921\"]],\"type\":\"surface\"}],\"table\":[{\"cells\":{\"fill\":{\"color\":\"#EBF0F8\"},\"line\":{\"color\":\"white\"}},\"header\":{\"fill\":{\"color\":\"#C8D4E3\"},\"line\":{\"color\":\"white\"}},\"type\":\"table\"}]},\"layout\":{\"annotationdefaults\":{\"arrowcolor\":\"#2a3f5f\",\"arrowhead\":0,\"arrowwidth\":1},\"autotypenumbers\":\"strict\",\"coloraxis\":{\"colorbar\":{\"outlinewidth\":0,\"ticks\":\"\"}},\"colorscale\":{\"diverging\":[[0,\"#8e0152\"],[0.1,\"#c51b7d\"],[0.2,\"#de77ae\"],[0.3,\"#f1b6da\"],[0.4,\"#fde0ef\"],[0.5,\"#f7f7f7\"],[0.6,\"#e6f5d0\"],[0.7,\"#b8e186\"],[0.8,\"#7fbc41\"],[0.9,\"#4d9221\"],[1,\"#276419\"]],\"sequential\":[[0.0,\"#0d0887\"],[0.1111111111111111,\"#46039f\"],[0.2222222222222222,\"#7201a8\"],[0.3333333333333333,\"#9c179e\"],[0.4444444444444444,\"#bd3786\"],[0.5555555555555556,\"#d8576b\"],[0.6666666666666666,\"#ed7953\"],[0.7777777777777778,\"#fb9f3a\"],[0.8888888888888888,\"#fdca26\"],[1.0,\"#f0f921\"]],\"sequentialminus\":[[0.0,\"#0d0887\"],[0.1111111111111111,\"#46039f\"],[0.2222222222222222,\"#7201a8\"],[0.3333333333333333,\"#9c179e\"],[0.4444444444444444,\"#bd3786\"],[0.5555555555555556,\"#d8576b\"],[0.6666666666666666,\"#ed7953\"],[0.7777777777777778,\"#fb9f3a\"],[0.8888888888888888,\"#fdca26\"],[1.0,\"#f0f921\"]]},\"colorway\":[\"#636efa\",\"#EF553B\",\"#00cc96\",\"#ab63fa\",\"#FFA15A\",\"#19d3f3\",\"#FF6692\",\"#B6E880\",\"#FF97FF\",\"#FECB52\"],\"font\":{\"color\":\"#2a3f5f\"},\"geo\":{\"bgcolor\":\"white\",\"lakecolor\":\"white\",\"landcolor\":\"#E5ECF6\",\"showlakes\":true,\"showland\":true,\"subunitcolor\":\"white\"},\"hoverlabel\":{\"align\":\"left\"},\"hovermode\":\"closest\",\"mapbox\":{\"style\":\"light\"},\"paper_bgcolor\":\"white\",\"plot_bgcolor\":\"#E5ECF6\",\"polar\":{\"angularaxis\":{\"gridcolor\":\"white\",\"linecolor\":\"white\",\"ticks\":\"\"},\"bgcolor\":\"#E5ECF6\",\"radialaxis\":{\"gridcolor\":\"white\",\"linecolor\":\"white\",\"ticks\":\"\"}},\"scene\":{\"xaxis\":{\"backgroundcolor\":\"#E5ECF6\",\"gridcolor\":\"white\",\"gridwidth\":2,\"linecolor\":\"white\",\"showbackground\":true,\"ticks\":\"\",\"zerolinecolor\":\"white\"},\"yaxis\":{\"backgroundcolor\":\"#E5ECF6\",\"gridcolor\":\"white\",\"gridwidth\":2,\"linecolor\":\"white\",\"showbackground\":true,\"ticks\":\"\",\"zerolinecolor\":\"white\"},\"zaxis\":{\"backgroundcolor\":\"#E5ECF6\",\"gridcolor\":\"white\",\"gridwidth\":2,\"linecolor\":\"white\",\"showbackground\":true,\"ticks\":\"\",\"zerolinecolor\":\"white\"}},\"shapedefaults\":{\"line\":{\"color\":\"#2a3f5f\"}},\"ternary\":{\"aaxis\":{\"gridcolor\":\"white\",\"linecolor\":\"white\",\"ticks\":\"\"},\"baxis\":{\"gridcolor\":\"white\",\"linecolor\":\"white\",\"ticks\":\"\"},\"bgcolor\":\"#E5ECF6\",\"caxis\":{\"gridcolor\":\"white\",\"linecolor\":\"white\",\"ticks\":\"\"}},\"title\":{\"x\":0.05},\"xaxis\":{\"automargin\":true,\"gridcolor\":\"white\",\"linecolor\":\"white\",\"ticks\":\"\",\"title\":{\"standoff\":15},\"zerolinecolor\":\"white\",\"zerolinewidth\":2},\"yaxis\":{\"automargin\":true,\"gridcolor\":\"white\",\"linecolor\":\"white\",\"ticks\":\"\",\"title\":{\"standoff\":15},\"zerolinecolor\":\"white\",\"zerolinewidth\":2}}},\"xaxis\":{\"anchor\":\"y\",\"domain\":[0.0,1.0],\"title\":{\"text\":\"datetime\"}},\"yaxis\":{\"anchor\":\"x\",\"domain\":[0.0,1.0],\"title\":{\"text\":\"value\"}}},                        {\"responsive\": true}                    ).then(function(){\n",
       "                            \n",
       "var gd = document.getElementById('74f5a50f-8716-4fd1-9e26-50d60289afc5');\n",
       "var x = new MutationObserver(function (mutations, observer) {{\n",
       "        var display = window.getComputedStyle(gd).display;\n",
       "        if (!display || display === 'none') {{\n",
       "            console.log([gd, 'removed!']);\n",
       "            Plotly.purge(gd);\n",
       "            observer.disconnect();\n",
       "        }}\n",
       "}});\n",
       "\n",
       "// Listen for the removal of the full notebook cells\n",
       "var notebookContainer = gd.closest('#notebook-container');\n",
       "if (notebookContainer) {{\n",
       "    x.observe(notebookContainer, {childList: true});\n",
       "}}\n",
       "\n",
       "// Listen for the clearing of the current output cell\n",
       "var outputEl = gd.closest('.output');\n",
       "if (outputEl) {{\n",
       "    x.observe(outputEl, {childList: true});\n",
       "}}\n",
       "\n",
       "                        })                };                });            </script>        </div>"
      ]
     },
     "metadata": {},
     "output_type": "display_data"
    }
   ],
   "source": [
    "new_data = decomposed.seasonal['2018-05-01':'2018-05-03']\n",
    "px.line(new_data).show()"
   ]
  },
  {
   "cell_type": "markdown",
   "id": "ea8e1732",
   "metadata": {},
   "source": [
    "We can see the highest peak of orders is at midnight. Second high peak is afternoon by 4 PM. Then at 10 AM . And the lowest time is 6 AM"
   ]
  },
  {
   "cell_type": "markdown",
   "id": "29e4e0ba",
   "metadata": {},
   "source": [
    "Now let's check the rolling mean and std of orders during this time"
   ]
  },
  {
   "cell_type": "code",
   "execution_count": 47,
   "id": "e775d5a4",
   "metadata": {
    "scrolled": true
   },
   "outputs": [
    {
     "data": {
      "text/plain": [
       "<AxesSubplot:xlabel='datetime'>"
      ]
     },
     "execution_count": 47,
     "metadata": {},
     "output_type": "execute_result"
    },
    {
     "data": {
      "image/png": "[encoded data removed]",
      "text/plain": [
       "<Figure size 432x288 with 1 Axes>"
      ]
     },
     "metadata": {},
     "output_type": "display_data"
    }
   ],
   "source": [
    "new_data = data.copy(deep=True)\n",
    "new_data['mean'] = data['num_orders'].rolling(50).mean()\n",
    "new_data['std'] = data['num_orders'].rolling(50).std()\n",
    "new_data.plot() "
   ]
  },
  {
   "cell_type": "markdown",
   "id": "ec24b8e1",
   "metadata": {},
   "source": [
    "By the end of this period in august we can see an increase in orders amount and also higher variance"
   ]
  },
  {
   "cell_type": "markdown",
   "id": "62cc7d00",
   "metadata": {},
   "source": [
    "# Feature engineering"
   ]
  },
  {
   "cell_type": "code",
   "execution_count": 48,
   "id": "55fc872b",
   "metadata": {
    "scrolled": true
   },
   "outputs": [
    {
     "data": {
      "text/html": [
       "<div>\n",
       "<style scoped>\n",
       "    .dataframe tbody tr th:only-of-type {\n",
       "        vertical-align: middle;\n",
       "    }\n",
       "\n",
       "    .dataframe tbody tr th {\n",
       "        vertical-align: top;\n",
       "    }\n",
       "\n",
       "    .dataframe thead th {\n",
       "        text-align: right;\n",
       "    }\n",
       "</style>\n",
       "<table border=\"1\" class=\"dataframe\">\n",
       "  <thead>\n",
       "    <tr style=\"text-align: right;\">\n",
       "      <th></th>\n",
       "      <th>num_orders</th>\n",
       "      <th>month</th>\n",
       "      <th>day</th>\n",
       "      <th>dayofweek</th>\n",
       "      <th>hour</th>\n",
       "      <th>lag_1</th>\n",
       "      <th>lag_2</th>\n",
       "      <th>lag_3</th>\n",
       "      <th>lag_4</th>\n",
       "      <th>lag_5</th>\n",
       "      <th>rolling_mean_hour</th>\n",
       "      <th>rolling_mean_day</th>\n",
       "    </tr>\n",
       "    <tr>\n",
       "      <th>datetime</th>\n",
       "      <th></th>\n",
       "      <th></th>\n",
       "      <th></th>\n",
       "      <th></th>\n",
       "      <th></th>\n",
       "      <th></th>\n",
       "      <th></th>\n",
       "      <th></th>\n",
       "      <th></th>\n",
       "      <th></th>\n",
       "      <th></th>\n",
       "      <th></th>\n",
       "    </tr>\n",
       "  </thead>\n",
       "  <tbody>\n",
       "    <tr>\n",
       "      <th>2018-03-01 00:00:00</th>\n",
       "      <td>124</td>\n",
       "      <td>3</td>\n",
       "      <td>1</td>\n",
       "      <td>3</td>\n",
       "      <td>0</td>\n",
       "      <td>NaN</td>\n",
       "      <td>NaN</td>\n",
       "      <td>NaN</td>\n",
       "      <td>NaN</td>\n",
       "      <td>NaN</td>\n",
       "      <td>NaN</td>\n",
       "      <td>NaN</td>\n",
       "    </tr>\n",
       "    <tr>\n",
       "      <th>2018-03-01 01:00:00</th>\n",
       "      <td>85</td>\n",
       "      <td>3</td>\n",
       "      <td>1</td>\n",
       "      <td>3</td>\n",
       "      <td>1</td>\n",
       "      <td>124.0</td>\n",
       "      <td>NaN</td>\n",
       "      <td>NaN</td>\n",
       "      <td>NaN</td>\n",
       "      <td>NaN</td>\n",
       "      <td>NaN</td>\n",
       "      <td>NaN</td>\n",
       "    </tr>\n",
       "    <tr>\n",
       "      <th>2018-03-01 02:00:00</th>\n",
       "      <td>71</td>\n",
       "      <td>3</td>\n",
       "      <td>1</td>\n",
       "      <td>3</td>\n",
       "      <td>2</td>\n",
       "      <td>85.0</td>\n",
       "      <td>124.0</td>\n",
       "      <td>NaN</td>\n",
       "      <td>NaN</td>\n",
       "      <td>NaN</td>\n",
       "      <td>104.5</td>\n",
       "      <td>NaN</td>\n",
       "    </tr>\n",
       "    <tr>\n",
       "      <th>2018-03-01 03:00:00</th>\n",
       "      <td>66</td>\n",
       "      <td>3</td>\n",
       "      <td>1</td>\n",
       "      <td>3</td>\n",
       "      <td>3</td>\n",
       "      <td>71.0</td>\n",
       "      <td>85.0</td>\n",
       "      <td>124.0</td>\n",
       "      <td>NaN</td>\n",
       "      <td>NaN</td>\n",
       "      <td>78.0</td>\n",
       "      <td>NaN</td>\n",
       "    </tr>\n",
       "    <tr>\n",
       "      <th>2018-03-01 04:00:00</th>\n",
       "      <td>43</td>\n",
       "      <td>3</td>\n",
       "      <td>1</td>\n",
       "      <td>3</td>\n",
       "      <td>4</td>\n",
       "      <td>66.0</td>\n",
       "      <td>71.0</td>\n",
       "      <td>85.0</td>\n",
       "      <td>124.0</td>\n",
       "      <td>NaN</td>\n",
       "      <td>68.5</td>\n",
       "      <td>NaN</td>\n",
       "    </tr>\n",
       "    <tr>\n",
       "      <th>...</th>\n",
       "      <td>...</td>\n",
       "      <td>...</td>\n",
       "      <td>...</td>\n",
       "      <td>...</td>\n",
       "      <td>...</td>\n",
       "      <td>...</td>\n",
       "      <td>...</td>\n",
       "      <td>...</td>\n",
       "      <td>...</td>\n",
       "      <td>...</td>\n",
       "      <td>...</td>\n",
       "      <td>...</td>\n",
       "    </tr>\n",
       "    <tr>\n",
       "      <th>2018-08-31 19:00:00</th>\n",
       "      <td>136</td>\n",
       "      <td>8</td>\n",
       "      <td>31</td>\n",
       "      <td>4</td>\n",
       "      <td>19</td>\n",
       "      <td>207.0</td>\n",
       "      <td>217.0</td>\n",
       "      <td>197.0</td>\n",
       "      <td>116.0</td>\n",
       "      <td>133.0</td>\n",
       "      <td>212.0</td>\n",
       "      <td>164.875000</td>\n",
       "    </tr>\n",
       "    <tr>\n",
       "      <th>2018-08-31 20:00:00</th>\n",
       "      <td>154</td>\n",
       "      <td>8</td>\n",
       "      <td>31</td>\n",
       "      <td>4</td>\n",
       "      <td>20</td>\n",
       "      <td>136.0</td>\n",
       "      <td>207.0</td>\n",
       "      <td>217.0</td>\n",
       "      <td>197.0</td>\n",
       "      <td>116.0</td>\n",
       "      <td>171.5</td>\n",
       "      <td>167.541667</td>\n",
       "    </tr>\n",
       "    <tr>\n",
       "      <th>2018-08-31 21:00:00</th>\n",
       "      <td>159</td>\n",
       "      <td>8</td>\n",
       "      <td>31</td>\n",
       "      <td>4</td>\n",
       "      <td>21</td>\n",
       "      <td>154.0</td>\n",
       "      <td>136.0</td>\n",
       "      <td>207.0</td>\n",
       "      <td>217.0</td>\n",
       "      <td>197.0</td>\n",
       "      <td>145.0</td>\n",
       "      <td>168.041667</td>\n",
       "    </tr>\n",
       "    <tr>\n",
       "      <th>2018-08-31 22:00:00</th>\n",
       "      <td>223</td>\n",
       "      <td>8</td>\n",
       "      <td>31</td>\n",
       "      <td>4</td>\n",
       "      <td>22</td>\n",
       "      <td>159.0</td>\n",
       "      <td>154.0</td>\n",
       "      <td>136.0</td>\n",
       "      <td>207.0</td>\n",
       "      <td>217.0</td>\n",
       "      <td>156.5</td>\n",
       "      <td>166.416667</td>\n",
       "    </tr>\n",
       "    <tr>\n",
       "      <th>2018-08-31 23:00:00</th>\n",
       "      <td>205</td>\n",
       "      <td>8</td>\n",
       "      <td>31</td>\n",
       "      <td>4</td>\n",
       "      <td>23</td>\n",
       "      <td>223.0</td>\n",
       "      <td>159.0</td>\n",
       "      <td>154.0</td>\n",
       "      <td>136.0</td>\n",
       "      <td>207.0</td>\n",
       "      <td>191.0</td>\n",
       "      <td>169.125000</td>\n",
       "    </tr>\n",
       "  </tbody>\n",
       "</table>\n",
       "<p>4416 rows × 12 columns</p>\n",
       "</div>"
      ],
      "text/plain": [
       "                     num_orders  month  day  dayofweek  hour  lag_1  lag_2  \\\n",
       "datetime                                                                     \n",
       "2018-03-01 00:00:00         124      3    1          3     0    NaN    NaN   \n",
       "2018-03-01 01:00:00          85      3    1          3     1  124.0    NaN   \n",
       "2018-03-01 02:00:00          71      3    1          3     2   85.0  124.0   \n",
       "2018-03-01 03:00:00          66      3    1          3     3   71.0   85.0   \n",
       "2018-03-01 04:00:00          43      3    1          3     4   66.0   71.0   \n",
       "...                         ...    ...  ...        ...   ...    ...    ...   \n",
       "2018-08-31 19:00:00         136      8   31          4    19  207.0  217.0   \n",
       "2018-08-31 20:00:00         154      8   31          4    20  136.0  207.0   \n",
       "2018-08-31 21:00:00         159      8   31          4    21  154.0  136.0   \n",
       "2018-08-31 22:00:00         223      8   31          4    22  159.0  154.0   \n",
       "2018-08-31 23:00:00         205      8   31          4    23  223.0  159.0   \n",
       "\n",
       "                     lag_3  lag_4  lag_5  rolling_mean_hour  rolling_mean_day  \n",
       "datetime                                                                       \n",
       "2018-03-01 00:00:00    NaN    NaN    NaN                NaN               NaN  \n",
       "2018-03-01 01:00:00    NaN    NaN    NaN                NaN               NaN  \n",
       "2018-03-01 02:00:00    NaN    NaN    NaN              104.5               NaN  \n",
       "2018-03-01 03:00:00  124.0    NaN    NaN               78.0               NaN  \n",
       "2018-03-01 04:00:00   85.0  124.0    NaN               68.5               NaN  \n",
       "...                    ...    ...    ...                ...               ...  \n",
       "2018-08-31 19:00:00  197.0  116.0  133.0              212.0        164.875000  \n",
       "2018-08-31 20:00:00  217.0  197.0  116.0              171.5        167.541667  \n",
       "2018-08-31 21:00:00  207.0  217.0  197.0              145.0        168.041667  \n",
       "2018-08-31 22:00:00  136.0  207.0  217.0              156.5        166.416667  \n",
       "2018-08-31 23:00:00  154.0  136.0  207.0              191.0        169.125000  \n",
       "\n",
       "[4416 rows x 12 columns]"
      ]
     },
     "execution_count": 48,
     "metadata": {},
     "output_type": "execute_result"
    }
   ],
   "source": [
    "# Creating features\n",
    "def make_features(df, max_lag, rolling_mean_size_hour, rolling_mean_size_day):\n",
    "    column_heading = df.columns[0] \n",
    "    df['month'] = df.index.month\n",
    "    df['day'] = df.index.day\n",
    "    df['dayofweek'] = df.index.dayofweek\n",
    "    df['hour'] = df.index.hour\n",
    "\n",
    "    for lag in range(1, max_lag + 1):\n",
    "        df['lag_{}'.format(lag)] = df[column_heading].shift(lag)\n",
    "\n",
    "    df['rolling_mean_hour'] = df[column_heading].shift().rolling(rolling_mean_size_hour).mean()\n",
    "    df['rolling_mean_day'] = df[column_heading].shift().rolling(rolling_mean_size_day).mean()\n",
    "\n",
    "make_features(data, 5, 2, 24)\n",
    "data"
   ]
  },
  {
   "cell_type": "code",
   "execution_count": 49,
   "id": "96e7c774",
   "metadata": {},
   "outputs": [],
   "source": [
    "# remove the nan cause by lag and rolling mean in the dataset beggining\n",
    "data.dropna(inplace=True)"
   ]
  },
  {
   "cell_type": "markdown",
   "id": "67f26322",
   "metadata": {},
   "source": [
    "# Prepare data for model selection"
   ]
  },
  {
   "cell_type": "code",
   "execution_count": 50,
   "id": "9cf7431c",
   "metadata": {},
   "outputs": [
    {
     "data": {
      "text/plain": [
       "((3161, 11), (791, 11), (3161, 1), (791, 1), (440, 11), (440, 1))"
      ]
     },
     "execution_count": 50,
     "metadata": {},
     "output_type": "execute_result"
    }
   ],
   "source": [
    "# Split train and test \n",
    "X = data.drop(['num_orders'], axis=1)\n",
    "y = data[['num_orders']]\n",
    "\n",
    "X_train_eval, X_test, y_train_eval, y_test = train_test_split(X, y, shuffle=False, test_size=0.1)\n",
    "X_train, X_eval, y_train, y_eval = train_test_split(\n",
    "    X_train_eval, y_train_eval, shuffle=False, test_size=0.2)\n",
    "\n",
    "\n",
    "X_train.shape, X_eval.shape, y_train.shape, y_eval.shape, X_test.shape, y_test.shape\n"
   ]
  },
  {
   "cell_type": "markdown",
   "id": "7d4052d4",
   "metadata": {},
   "source": [
    "# Model selection"
   ]
  },
  {
   "cell_type": "code",
   "execution_count": 51,
   "id": "41d79378",
   "metadata": {},
   "outputs": [],
   "source": [
    "# create df to store results\n",
    "results_df = pd.DataFrame(columns=['model_type', 'RMSE', 'model_call_name'])"
   ]
  },
  {
   "cell_type": "code",
   "execution_count": 52,
   "id": "e1e601e4",
   "metadata": {},
   "outputs": [],
   "source": [
    "def append_to_score_df(model_name:str, RMSE:float, model_call_name:str):\n",
    "    row_val = [model_name, round(RMSE, 2), model_call_name]\n",
    "    results_df.loc[len(results_df)] = row_val\n",
    "    print(results_df)"
   ]
  },
  {
   "cell_type": "markdown",
   "id": "3a729dcb",
   "metadata": {},
   "source": [
    "Create a function for cross validation"
   ]
  },
  {
   "cell_type": "code",
   "execution_count": 53,
   "id": "8f7c4ff1",
   "metadata": {},
   "outputs": [],
   "source": [
    "def cross_val_score_rmse_for_model(model, X_for_cross_train, y_for_cross_train) -> float:\n",
    "    tscv = TimeSeriesSplit()\n",
    "    rmse = np.abs(np.mean(cross_val_score(model, X_train_eval, y_train_eval, cv=tscv, scoring='neg_root_mean_squared_error')))\n",
    "    return rmse"
   ]
  },
  {
   "cell_type": "markdown",
   "id": "3443663b",
   "metadata": {},
   "source": [
    "## Linear Regression"
   ]
  },
  {
   "cell_type": "code",
   "execution_count": 54,
   "id": "453fd746",
   "metadata": {},
   "outputs": [
    {
     "name": "stdout",
     "output_type": "stream",
     "text": [
      "          model_type   RMSE model_call_name\n",
      "0  linear regression  31.52              lr\n"
     ]
    }
   ],
   "source": [
    "lr = LinearRegression() \n",
    "rmse = cross_val_score_rmse_for_model(\n",
    "    model=lr, X_for_cross_train=X_train_eval, y_for_cross_train=y_train_eval\n",
    ")\n",
    "lr.fit(X_train_eval, y_train_eval)\n",
    "append_to_score_df(model_name='linear regression', RMSE=rmse, model_call_name='lr')"
   ]
  },
  {
   "cell_type": "markdown",
   "id": "b7ebde66",
   "metadata": {},
   "source": [
    "## Random Forest Regressor"
   ]
  },
  {
   "cell_type": "code",
   "execution_count": 55,
   "id": "a17e9748",
   "metadata": {},
   "outputs": [
    {
     "name": "stdout",
     "output_type": "stream",
     "text": [
      "                 model_type   RMSE model_call_name\n",
      "0         linear regression  31.52              lr\n",
      "1  Random Forest regression  25.29             rfr\n"
     ]
    }
   ],
   "source": [
    "rfr = RandomForestRegressor(random_state=12345) \n",
    "rmse = cross_val_score_rmse_for_model(\n",
    "    model=rfr, X_for_cross_train=X_train_eval, y_for_cross_train=y_train_eval\n",
    ")\n",
    "rfr.fit(X_train_eval, y_train_eval)\n",
    "append_to_score_df(model_name='Random Forest regression', RMSE=rmse, model_call_name='rfr')"
   ]
  },
  {
   "cell_type": "markdown",
   "id": "a1b3c0f1",
   "metadata": {},
   "source": [
    "## Random Forest Regressor with parameter tuning"
   ]
  },
  {
   "cell_type": "code",
   "execution_count": 56,
   "id": "0dd6311b",
   "metadata": {},
   "outputs": [
    {
     "name": "stdout",
     "output_type": "stream",
     "text": [
      "{'bootstrap': [True, False],\n",
      " 'max_depth': array([ 3,  4,  5,  6,  7,  8,  9, 10, 11]),\n",
      " 'min_samples_leaf': [1, 2, 4],\n",
      " 'min_samples_split': [2, 5, 10]}\n"
     ]
    }
   ],
   "source": [
    "# create dictionary for the parameters to be tunned\n",
    "\n",
    "# Maximum number of levels in tree\n",
    "max_depth = np.arange(3,12)\n",
    "# Minimum number of samples required to split a node\n",
    "min_samples_split = [2, 5, 10]\n",
    "# Minimum number of samples required at each leaf node\n",
    "min_samples_leaf = [1, 2, 4]\n",
    "# Method of selecting samples for training each tree\n",
    "bootstrap = [True, False]\n",
    "# Create the random grid\n",
    "random_grid = {'max_depth': max_depth,\n",
    "               'min_samples_split': min_samples_split,\n",
    "               'min_samples_leaf': min_samples_leaf,\n",
    "               'bootstrap': bootstrap}\n",
    "pprint.pprint(random_grid)"
   ]
  },
  {
   "cell_type": "code",
   "execution_count": 57,
   "id": "da4aaedc",
   "metadata": {},
   "outputs": [],
   "source": [
    "def rmse_score(y_true, y_pred):\n",
    "    return mean_squared_error(y_true, y_pred)**0.5"
   ]
  },
  {
   "cell_type": "code",
   "execution_count": 58,
   "id": "5b853bcd",
   "metadata": {},
   "outputs": [],
   "source": [
    "scorer = make_scorer(rmse_score, greater_is_better=False)"
   ]
  },
  {
   "cell_type": "code",
   "execution_count": 59,
   "id": "3198bcfe",
   "metadata": {},
   "outputs": [],
   "source": [
    "rfr_random_tunner = RandomForestRegressor(random_state=12345)\n",
    "tscv = TimeSeriesSplit()\n",
    "clf = RandomizedSearchCV(\n",
    "    estimator=rfr_random_tunner,\n",
    "    param_distributions=random_grid,\n",
    "    n_iter=5, cv=tscv, random_state=12345,\n",
    "    scoring=scorer\n",
    ")"
   ]
  },
  {
   "cell_type": "code",
   "execution_count": 60,
   "id": "d8030385",
   "metadata": {},
   "outputs": [
    {
     "name": "stdout",
     "output_type": "stream",
     "text": [
      "Wall time: 20.5 s\n"
     ]
    },
    {
     "data": {
      "text/plain": [
       "RandomizedSearchCV(cv=TimeSeriesSplit(gap=0, max_train_size=None, n_splits=5, test_size=None),\n",
       "                   estimator=RandomForestRegressor(random_state=12345),\n",
       "                   n_iter=5,\n",
       "                   param_distributions={'bootstrap': [True, False],\n",
       "                                        'max_depth': array([ 3,  4,  5,  6,  7,  8,  9, 10, 11]),\n",
       "                                        'min_samples_leaf': [1, 2, 4],\n",
       "                                        'min_samples_split': [2, 5, 10]},\n",
       "                   random_state=12345,\n",
       "                   scoring=make_scorer(rmse_score, greater_is_better=False))"
      ]
     },
     "execution_count": 60,
     "metadata": {},
     "output_type": "execute_result"
    }
   ],
   "source": [
    "%%time\n",
    "\n",
    "clf.fit(X_train_eval, y_train_eval)"
   ]
  },
  {
   "cell_type": "code",
   "execution_count": 61,
   "id": "71a9f1ed",
   "metadata": {},
   "outputs": [
    {
     "name": "stdout",
     "output_type": "stream",
     "text": [
      "                             model_type   RMSE model_call_name\n",
      "0                     linear regression  31.52              lr\n",
      "1              Random Forest regression  25.29             rfr\n",
      "2  Random Forest regression with tuning  25.43             clf\n"
     ]
    }
   ],
   "source": [
    "append_to_score_df(model_name='Random Forest regression with tuning',\n",
    "                   RMSE=np.abs(clf.best_score_), model_call_name='clf')"
   ]
  },
  {
   "cell_type": "markdown",
   "id": "6950b938",
   "metadata": {},
   "source": [
    "## light GBM "
   ]
  },
  {
   "cell_type": "code",
   "execution_count": 62,
   "id": "1893d08d",
   "metadata": {},
   "outputs": [
    {
     "name": "stdout",
     "output_type": "stream",
     "text": [
      "                             model_type   RMSE model_call_name\n",
      "0                     linear regression  31.52              lr\n",
      "1              Random Forest regression  25.29             rfr\n",
      "2  Random Forest regression with tuning  25.43             clf\n",
      "3                        LGBM Regressor  25.50           lgbmr\n"
     ]
    }
   ],
   "source": [
    "lgbmr = lgb.LGBMRegressor(random_state=12345)\n",
    "rmse = cross_val_score_rmse_for_model(\n",
    "    model=lgbmr, X_for_cross_train=X_train_eval, y_for_cross_train=y_train_eval\n",
    ")\n",
    "\n",
    "\n",
    "lgbmr.fit(X_train_eval, y_train_eval)\n",
    "append_to_score_df(model_name='LGBM Regressor', RMSE=rmse, model_call_name='lgbmr')"
   ]
  },
  {
   "cell_type": "markdown",
   "id": "f79d0c34",
   "metadata": {},
   "source": [
    "## light GBM with tuning"
   ]
  },
  {
   "cell_type": "code",
   "execution_count": 63,
   "id": "631663fb",
   "metadata": {
    "scrolled": false
   },
   "outputs": [
    {
     "name": "stdout",
     "output_type": "stream",
     "text": [
      "\n",
      " * Initiating LGBMTuner.fit\n",
      "     . Settings:\n",
      "     .. Trying 100 trials\n",
      "     .. Evaluation metric: rmse \n",
      "     .. Study direction: minimize rmse\n",
      "\n",
      "     . Trial number: 0 finished\n",
      "     .. Optimization score (lower-better): rmse: 23.929715381372397\n",
      " ...........................................................................\n",
      "     . Trial number: 1 finished\n",
      "     .. Optimization score (lower-better): rmse: 22.6195847131176\n",
      " ...........................................................................\n",
      "     . Trial number: 2 finished\n",
      "     .. Optimization score (lower-better): rmse: 20.869321877120537\n",
      " ...........................................................................\n",
      "     . Trial number: 3 finished\n",
      "     .. Optimization score (lower-better): rmse: 20.719907969563074\n",
      " ...........................................................................\n",
      "     . Trial number: 4 finished\n",
      "     .. Optimization score (lower-better): rmse: 24.013723880769504\n",
      " ...........................................................................\n",
      "     . Trial number: 15 finished\n",
      "     .. Optimization score (lower-better): rmse: 21.21162651307057\n",
      " ...........................................................................\n",
      "     . Trial number: 17 finished\n",
      "     .. Optimization score (lower-better): rmse: 21.204407367645537\n",
      " ...........................................................................\n",
      "     . Trial number: 28 finished\n",
      "     .. Optimization score (lower-better): rmse: 20.403479409113807\n",
      " ...........................................................................\n",
      "     . Trial number: 72 finished\n",
      "     .. Optimization score (lower-better): rmse: 20.623495962339124\n",
      " ...........................................................................\n",
      "     . Trial number: 83 finished\n",
      "     .. Optimization score (lower-better): rmse: 21.045712263190953\n",
      " ...........................................................................\n",
      "\n",
      "   - Tune n_estimators with early_stopping\n",
      "Training until validation scores don't improve for 200 rounds\n",
      "[100]\ttrain's lgb_rmse: 23.6902\tvalid's lgb_rmse: 24.987\n",
      "[200]\ttrain's lgb_rmse: 18.3448\tvalid's lgb_rmse: 22.3275\n",
      "[300]\ttrain's lgb_rmse: 15.3808\tvalid's lgb_rmse: 21.4101\n",
      "[400]\ttrain's lgb_rmse: 13.3935\tvalid's lgb_rmse: 21.2279\n",
      "[500]\ttrain's lgb_rmse: 11.9124\tvalid's lgb_rmse: 21.2274\n",
      "[600]\ttrain's lgb_rmse: 10.7295\tvalid's lgb_rmse: 21.2966\n",
      "Early stopping, best iteration is:\n",
      "[461]\ttrain's lgb_rmse: 12.4464\tvalid's lgb_rmse: 21.216\n",
      "\n",
      "   - Fitting optimized model with the follwing params:\n",
      "learning_rate                    : 0.01\n",
      "num_leaves                       : 180\n",
      "colsample_bytree                 : 0.7477392044358329\n",
      "subsample                        : 0.5498078080561799\n",
      "verbosity                        : -1\n",
      "random_state                     : 42\n",
      "objective                        : regression\n",
      "metric                           : rmse\n",
      "num_threads                      : 6\n",
      "reg_alpha                        : 2.3094463656490297e-05\n",
      "min_sum_hessian_in_leaf          : 0.21925707285332158\n",
      "reg_lambda                       : 2.6917206024555106e-06\n",
      "n_estimators                     : 461\n"
     ]
    },
    {
     "data": {
      "image/png": "[encoded data removed]",
      "text/plain": [
       "<Figure size 432x288 with 1 Axes>"
      ]
     },
     "metadata": {},
     "output_type": "display_data"
    },
    {
     "data": {
      "image/png": "[encoded data removed]",
      "text/plain": [
       "<Figure size 432x288 with 1 Axes>"
      ]
     },
     "metadata": {},
     "output_type": "display_data"
    },
    {
     "data": {
      "image/png": "[encoded data removed]",
      "text/plain": [
       "<Figure size 432x288 with 1 Axes>"
      ]
     },
     "metadata": {},
     "output_type": "display_data"
    },
    {
     "data": {
      "image/png": "[encoded data removed]",
      "text/plain": [
       "<Figure size 720x432 with 1 Axes>"
      ]
     },
     "metadata": {},
     "output_type": "display_data"
    },
    {
     "name": "stdout",
     "output_type": "stream",
     "text": [
      "\n",
      "     . Optuna hyperparameters optimization finished\n",
      "     .. Best trial number:28    |     rmse:           20.403479409113807\n",
      " ---------------------------------------------------------------------------\n",
      "     . n_estimators optimization finished\n",
      "     .. best iteration:  461   |     rmse:           21.216020653069616\n",
      " ===========================================================================\n",
      "\n",
      "Time elapsed for fit execution: 32.01951 seconds\n",
      "Wall time: 32 s\n"
     ]
    }
   ],
   "source": [
    "%%time\n",
    "\n",
    "tuner = LGBMTuner(metric = 'rmse', seed=12345) # <- the only required argument\n",
    "tuner.fit(X_train_eval, y_train_eval['num_orders'])"
   ]
  },
  {
   "cell_type": "markdown",
   "id": "18b9cefd",
   "metadata": {},
   "source": [
    "Here we can see the features that have the highest effect on the score."
   ]
  },
  {
   "cell_type": "code",
   "execution_count": 64,
   "id": "31ea426c",
   "metadata": {},
   "outputs": [
    {
     "name": "stdout",
     "output_type": "stream",
     "text": [
      "                                   model_type   RMSE model_call_name\n",
      "0                           linear regression  31.52              lr\n",
      "1                    Random Forest regression  25.29             rfr\n",
      "2        Random Forest regression with tuning  25.43             clf\n",
      "3                              LGBM Regressor  25.50           lgbmr\n",
      "4  LGBM Regressor with hyperparameters tunner  20.40           tuner\n"
     ]
    }
   ],
   "source": [
    "rmse = min(tuner.eval_results.values())\n",
    "append_to_score_df(model_name='LGBM Regressor with hyperparameters tunner',\n",
    "                   RMSE=rmse, model_call_name='tuner')"
   ]
  },
  {
   "cell_type": "markdown",
   "id": "01c72de7",
   "metadata": {},
   "source": [
    "# Test selected model"
   ]
  },
  {
   "cell_type": "code",
   "execution_count": 65,
   "id": "84334877",
   "metadata": {},
   "outputs": [
    {
     "data": {
      "text/html": [
       "<div>\n",
       "<style scoped>\n",
       "    .dataframe tbody tr th:only-of-type {\n",
       "        vertical-align: middle;\n",
       "    }\n",
       "\n",
       "    .dataframe tbody tr th {\n",
       "        vertical-align: top;\n",
       "    }\n",
       "\n",
       "    .dataframe thead th {\n",
       "        text-align: right;\n",
       "    }\n",
       "</style>\n",
       "<table border=\"1\" class=\"dataframe\">\n",
       "  <thead>\n",
       "    <tr style=\"text-align: right;\">\n",
       "      <th></th>\n",
       "      <th>model_type</th>\n",
       "      <th>RMSE</th>\n",
       "      <th>model_call_name</th>\n",
       "    </tr>\n",
       "  </thead>\n",
       "  <tbody>\n",
       "    <tr>\n",
       "      <th>4</th>\n",
       "      <td>LGBM Regressor with hyperparameters tunner</td>\n",
       "      <td>20.40</td>\n",
       "      <td>tuner</td>\n",
       "    </tr>\n",
       "    <tr>\n",
       "      <th>1</th>\n",
       "      <td>Random Forest regression</td>\n",
       "      <td>25.29</td>\n",
       "      <td>rfr</td>\n",
       "    </tr>\n",
       "    <tr>\n",
       "      <th>2</th>\n",
       "      <td>Random Forest regression with tuning</td>\n",
       "      <td>25.43</td>\n",
       "      <td>clf</td>\n",
       "    </tr>\n",
       "    <tr>\n",
       "      <th>3</th>\n",
       "      <td>LGBM Regressor</td>\n",
       "      <td>25.50</td>\n",
       "      <td>lgbmr</td>\n",
       "    </tr>\n",
       "    <tr>\n",
       "      <th>0</th>\n",
       "      <td>linear regression</td>\n",
       "      <td>31.52</td>\n",
       "      <td>lr</td>\n",
       "    </tr>\n",
       "  </tbody>\n",
       "</table>\n",
       "</div>"
      ],
      "text/plain": [
       "                                   model_type   RMSE model_call_name\n",
       "4  LGBM Regressor with hyperparameters tunner  20.40           tuner\n",
       "1                    Random Forest regression  25.29             rfr\n",
       "2        Random Forest regression with tuning  25.43             clf\n",
       "3                              LGBM Regressor  25.50           lgbmr\n",
       "0                           linear regression  31.52              lr"
      ]
     },
     "execution_count": 65,
     "metadata": {},
     "output_type": "execute_result"
    }
   ],
   "source": [
    "results_df.sort_values(by='RMSE', inplace=True)\n",
    "results_df"
   ]
  },
  {
   "cell_type": "markdown",
   "id": "c7c32ec6",
   "metadata": {},
   "source": [
    "We will select the model with the best RMSE score and use it to predict on the test set"
   ]
  },
  {
   "cell_type": "code",
   "execution_count": 66,
   "id": "19e4c640",
   "metadata": {},
   "outputs": [],
   "source": [
    "name_of_model = results_df.iloc[0]['model_call_name']\n",
    "# retrieve the best model\n",
    "model = locals()[name_of_model]"
   ]
  },
  {
   "cell_type": "markdown",
   "id": "23423bcc",
   "metadata": {},
   "source": [
    "Calculate the RMSE on the model"
   ]
  },
  {
   "cell_type": "code",
   "execution_count": 67,
   "id": "de042d67",
   "metadata": {
    "scrolled": true
   },
   "outputs": [
    {
     "name": "stdout",
     "output_type": "stream",
     "text": [
      "LGBM Regressor with hyperparameters tunner RMSE on the test set: 44.49\n"
     ]
    }
   ],
   "source": [
    "# calculate rmse\n",
    "score_for_best_model = rmse_score(y_test, model.predict(X_test))\n",
    "print(f\"{results_df.iloc[0]['model_type']} RMSE on the test set: {score_for_best_model:.2f}\")\n"
   ]
  },
  {
   "cell_type": "markdown",
   "id": "15a6a184",
   "metadata": {},
   "source": [
    "# Conclusion"
   ]
  },
  {
   "cell_type": "code",
   "execution_count": 68,
   "id": "40942184",
   "metadata": {},
   "outputs": [
    {
     "name": "stdout",
     "output_type": "stream",
     "text": [
      "We managed to produce model that give RMSE lower then 48 on the test set!\n",
      "The RMSE score we got is lower in 3.5 then the goal of the project\n"
     ]
    }
   ],
   "source": [
    "if score_for_best_model < 48:\n",
    "    print(f'We managed to produce model that give RMSE lower then 48 on the test set!\\n\\\n",
    "The RMSE score we got is lower in {(48-score_for_best_model):.2} then the goal of the project')\n",
    "else:\n",
    "    print(f\"The project goal didn't achived\\n\\\n",
    "The RMSE score we got is higher in {(score_for_best_model-48):.2} then the goal of the project\")"
   ]
  },
  {
   "cell_type": "markdown",
   "id": "75aca1d0",
   "metadata": {},
   "source": [
    "We see that for the lgbm the tunning we did make massive improvement while for the random forest it didn't. All models achieved better results than the linear regression. This is a good sign for the linear regression model serves as a benchmark for the most naive prediction  "
   ]
  }
 ],
 "metadata": {
  "ExecuteTimeLog": [
   {
    "duration": 86633,
    "start_time": "2022-08-07T11:12:55.723Z"
   },
   {
    "duration": 111858,
    "start_time": "2022-08-07T11:14:36.054Z"
   },
   {
    "duration": 382,
    "start_time": "2022-08-07T11:16:27.914Z"
   },
   {
    "duration": 0,
    "start_time": "2022-08-07T11:16:28.299Z"
   },
   {
    "duration": 0,
    "start_time": "2022-08-07T11:16:28.300Z"
   },
   {
    "duration": 0,
    "start_time": "2022-08-07T11:16:28.302Z"
   },
   {
    "duration": 0,
    "start_time": "2022-08-07T11:16:28.303Z"
   },
   {
    "duration": 0,
    "start_time": "2022-08-07T11:16:28.304Z"
   },
   {
    "duration": 0,
    "start_time": "2022-08-07T11:16:28.305Z"
   },
   {
    "duration": 0,
    "start_time": "2022-08-07T11:16:28.306Z"
   },
   {
    "duration": 0,
    "start_time": "2022-08-07T11:16:28.307Z"
   },
   {
    "duration": 0,
    "start_time": "2022-08-07T11:16:28.308Z"
   },
   {
    "duration": 0,
    "start_time": "2022-08-07T11:16:28.309Z"
   },
   {
    "duration": 0,
    "start_time": "2022-08-07T11:16:28.310Z"
   },
   {
    "duration": 0,
    "start_time": "2022-08-07T11:16:28.311Z"
   },
   {
    "duration": 0,
    "start_time": "2022-08-07T11:16:28.312Z"
   },
   {
    "duration": 0,
    "start_time": "2022-08-07T11:16:28.313Z"
   },
   {
    "duration": 0,
    "start_time": "2022-08-07T11:16:28.314Z"
   },
   {
    "duration": 0,
    "start_time": "2022-08-07T11:16:28.315Z"
   },
   {
    "duration": 0,
    "start_time": "2022-08-07T11:16:28.316Z"
   },
   {
    "duration": 0,
    "start_time": "2022-08-07T11:16:28.317Z"
   },
   {
    "duration": 0,
    "start_time": "2022-08-07T11:16:28.318Z"
   },
   {
    "duration": 0,
    "start_time": "2022-08-07T11:16:28.319Z"
   },
   {
    "duration": 0,
    "start_time": "2022-08-07T11:16:28.320Z"
   },
   {
    "duration": 0,
    "start_time": "2022-08-07T11:16:28.321Z"
   },
   {
    "duration": 0,
    "start_time": "2022-08-07T11:16:28.322Z"
   },
   {
    "duration": 0,
    "start_time": "2022-08-07T11:16:28.323Z"
   },
   {
    "duration": 0,
    "start_time": "2022-08-07T11:16:28.324Z"
   },
   {
    "duration": 0,
    "start_time": "2022-08-07T11:16:28.325Z"
   },
   {
    "duration": 0,
    "start_time": "2022-08-07T11:16:28.326Z"
   },
   {
    "duration": 0,
    "start_time": "2022-08-07T11:16:28.327Z"
   },
   {
    "duration": 154,
    "start_time": "2022-08-07T11:19:04.243Z"
   },
   {
    "duration": 14,
    "start_time": "2022-08-07T11:19:08.418Z"
   },
   {
    "duration": 14,
    "start_time": "2022-08-07T11:19:08.435Z"
   },
   {
    "duration": 7,
    "start_time": "2022-08-07T11:19:08.451Z"
   },
   {
    "duration": 1005,
    "start_time": "2022-08-07T11:19:08.460Z"
   },
   {
    "duration": 199,
    "start_time": "2022-08-07T11:19:09.468Z"
   },
   {
    "duration": 452,
    "start_time": "2022-08-07T11:19:09.669Z"
   },
   {
    "duration": 412,
    "start_time": "2022-08-07T11:19:10.123Z"
   },
   {
    "duration": 34,
    "start_time": "2022-08-07T11:19:10.537Z"
   },
   {
    "duration": 21,
    "start_time": "2022-08-07T11:19:10.573Z"
   },
   {
    "duration": 12,
    "start_time": "2022-08-07T11:19:10.596Z"
   },
   {
    "duration": 12,
    "start_time": "2022-08-07T11:19:10.609Z"
   },
   {
    "duration": 12,
    "start_time": "2022-08-07T11:19:10.623Z"
   },
   {
    "duration": 28,
    "start_time": "2022-08-07T11:19:10.636Z"
   },
   {
    "duration": 250,
    "start_time": "2022-08-07T11:19:10.667Z"
   },
   {
    "duration": 7596,
    "start_time": "2022-08-07T11:19:10.919Z"
   },
   {
    "duration": 6,
    "start_time": "2022-08-07T11:19:18.517Z"
   },
   {
    "duration": 9,
    "start_time": "2022-08-07T11:19:18.524Z"
   },
   {
    "duration": 6,
    "start_time": "2022-08-07T11:19:18.535Z"
   },
   {
    "duration": 17,
    "start_time": "2022-08-07T11:19:18.543Z"
   },
   {
    "duration": 18121,
    "start_time": "2022-08-07T11:19:18.563Z"
   },
   {
    "duration": 11,
    "start_time": "2022-08-07T11:19:36.686Z"
   },
   {
    "duration": 4510,
    "start_time": "2022-08-07T11:19:36.699Z"
   },
   {
    "duration": 0,
    "start_time": "2022-08-07T11:19:41.211Z"
   },
   {
    "duration": 0,
    "start_time": "2022-08-07T11:19:41.213Z"
   },
   {
    "duration": 0,
    "start_time": "2022-08-07T11:19:41.213Z"
   },
   {
    "duration": 0,
    "start_time": "2022-08-07T11:19:41.215Z"
   },
   {
    "duration": 0,
    "start_time": "2022-08-07T11:19:41.216Z"
   },
   {
    "duration": 0,
    "start_time": "2022-08-07T11:19:41.217Z"
   },
   {
    "duration": 5936,
    "start_time": "2022-08-07T11:19:56.369Z"
   },
   {
    "duration": 250827,
    "start_time": "2022-08-07T11:20:02.307Z"
   },
   {
    "duration": 11,
    "start_time": "2022-08-07T11:24:13.136Z"
   },
   {
    "duration": 26,
    "start_time": "2022-08-07T11:24:13.150Z"
   },
   {
    "duration": 15,
    "start_time": "2022-08-07T11:24:13.178Z"
   },
   {
    "duration": 37,
    "start_time": "2022-08-07T11:24:13.195Z"
   },
   {
    "duration": 60,
    "start_time": "2022-08-07T11:24:13.234Z"
   }
  ],
  "kernelspec": {
   "display_name": "Python 3 (ipykernel)",
   "language": "python",
   "name": "python3"
  },
  "language_info": {
   "codemirror_mode": {
    "name": "ipython",
    "version": 3
   },
   "file_extension": ".py",
   "mimetype": "text/x-python",
   "name": "python",
   "nbconvert_exporter": "python",
   "pygments_lexer": "ipython3",
   "version": "3.9.7"
  },
  "toc": {
   "base_numbering": 1,
   "nav_menu": {},
   "number_sections": true,
   "sideBar": true,
   "skip_h1_title": false,
   "title_cell": "Table of Contents",
   "title_sidebar": "Contents",
   "toc_cell": false,
   "toc_position": {},
   "toc_section_display": true,
   "toc_window_display": true
  }
 },
 "nbformat": 4,
 "nbformat_minor": 5
}
