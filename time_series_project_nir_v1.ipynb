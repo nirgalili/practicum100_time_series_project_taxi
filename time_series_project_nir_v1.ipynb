{
 "cells": [
  {
   "cell_type": "code",
   "execution_count": null,
   "id": "18b803f8",
   "metadata": {},
   "outputs": [],
   "source": [
    "import pandas as pd\n",
    "import numpy as np\n",
    "from sklearn.model_selection import train_test_split\n",
    "from sklearn.linear_model import LinearRegression\n",
    "from sklearn.metrics import mean_squared_error\n",
    "from statsmodels.tsa.seasonal import seasonal_decompose\n",
    "import matplotlib.pyplot as plt\n",
    "import plotly.express as px\n",
    "import lightgbm as lgb\n",
    "from catboost import CatBoostRegressor\n",
    "!pip install optuna\n",
    "import optuna  \n",
    "from optuna.integration import LightGBMPruningCallback\n",
    "\n"
   ]
  },
  {
   "cell_type": "code",
   "execution_count": null,
   "id": "7f6fde34",
   "metadata": {},
   "outputs": [],
   "source": [
    "data = pd.read_csv('taxi.csv', index_col=[0], parse_dates=[0])\n",
    "data.sort_index(inplace=True)\n",
    "data = data.resample('1H').sum()"
   ]
  },
  {
   "cell_type": "code",
   "execution_count": null,
   "id": "3120ee66",
   "metadata": {},
   "outputs": [],
   "source": [
    "data.info()"
   ]
  },
  {
   "cell_type": "markdown",
   "id": "2d425928",
   "metadata": {},
   "source": [
    "No missing values"
   ]
  },
  {
   "cell_type": "code",
   "execution_count": null,
   "id": "0ca308d2",
   "metadata": {
    "scrolled": true
   },
   "outputs": [],
   "source": [
    "data.head()"
   ]
  },
  {
   "cell_type": "markdown",
   "id": "856ac901",
   "metadata": {},
   "source": [
    "Starts from 2018-03-01 00:00:00"
   ]
  },
  {
   "cell_type": "code",
   "execution_count": null,
   "id": "77274488",
   "metadata": {},
   "outputs": [],
   "source": [
    "data.tail()"
   ]
  },
  {
   "cell_type": "markdown",
   "id": "7cbcf0da",
   "metadata": {},
   "source": [
    "End at 2018-08-31 23:00:00"
   ]
  },
  {
   "cell_type": "markdown",
   "id": "1383d90d",
   "metadata": {},
   "source": [
    "Let's break the orders into one contribute to the trend, seasonality and general noise "
   ]
  },
  {
   "cell_type": "code",
   "execution_count": null,
   "id": "f757c6ac",
   "metadata": {},
   "outputs": [],
   "source": [
    "decomposed = seasonal_decompose(data)\n",
    "\n",
    "plt.figure(figsize=(6, 8))\n",
    "plt.subplot(311)\n",
    "# To display the graph correctly, specify its\n",
    "# axes ax equal to plt.gca() (gca = get current axis)\n",
    "decomposed.trend.plot(ax=plt.gca())\n",
    "plt.title('Trend')\n",
    "plt.subplot(312)\n",
    "decomposed.seasonal.plot(ax=plt.gca())\n",
    "plt.title('Seasonality')\n",
    "plt.subplot(313)\n",
    "decomposed.resid.plot(ax=plt.gca())\n",
    "plt.title('Residuals')\n",
    "plt.tight_layout()"
   ]
  },
  {
   "cell_type": "markdown",
   "id": "1caff3d2",
   "metadata": {},
   "source": [
    "There is a obvious trend of increasing number of order in this period. The residuals stays almost the same. With Seasonality we have problem with this time sample. I guess that by sampeling shorter period we might learn more. I will take half month  "
   ]
  },
  {
   "cell_type": "code",
   "execution_count": null,
   "id": "4111a770",
   "metadata": {},
   "outputs": [],
   "source": [
    "new_data = decomposed.seasonal['2018-05-01':'2018-05-15']\n",
    "new_data.plot()"
   ]
  },
  {
   "cell_type": "markdown",
   "id": "aaf83500",
   "metadata": {},
   "source": [
    "Now it looks more obvious. I will try 3 days to make it clearer"
   ]
  },
  {
   "cell_type": "code",
   "execution_count": null,
   "id": "e1685153",
   "metadata": {
    "scrolled": true
   },
   "outputs": [],
   "source": [
    "new_data = decomposed.seasonal['2018-05-01':'2018-05-03']\n",
    "px.line(new_data).show()"
   ]
  },
  {
   "cell_type": "markdown",
   "id": "ea8e1732",
   "metadata": {},
   "source": [
    "We can see the highest peak of orders is at midnight. Second high peak is afternoon by 4 PM. Then at 10 AM . And the lowest time is 6 AM"
   ]
  },
  {
   "cell_type": "markdown",
   "id": "29e4e0ba",
   "metadata": {},
   "source": [
    "Now let's check the rolling mean and std of orders during this time"
   ]
  },
  {
   "cell_type": "code",
   "execution_count": null,
   "id": "e775d5a4",
   "metadata": {
    "scrolled": true
   },
   "outputs": [],
   "source": [
    "new_data = data.copy(deep=True)\n",
    "new_data['mean'] = data['num_orders'].rolling(50).mean()\n",
    "new_data['std'] = data['num_orders'].rolling(50).std()\n",
    "new_data.plot() "
   ]
  },
  {
   "cell_type": "markdown",
   "id": "ec24b8e1",
   "metadata": {},
   "source": [
    "By the end of this period in august we can see an increase in orders amount and also higher variance"
   ]
  },
  {
   "cell_type": "code",
   "execution_count": null,
   "id": "55fc872b",
   "metadata": {
    "scrolled": true
   },
   "outputs": [],
   "source": [
    "# Creating features\n",
    "def make_features(df, max_lag, rolling_mean_size_hour, rolling_mean_size_day):\n",
    "    column_heading = df.columns[0] \n",
    "    df['month'] = df.index.month\n",
    "    df['day'] = df.index.day\n",
    "    df['dayofweek'] = df.index.dayofweek\n",
    "    df['hour'] = df.index.hour\n",
    "\n",
    "    for lag in range(1, max_lag + 1):\n",
    "        df['lag_{}'.format(lag)] = df[column_heading].shift(lag)\n",
    "\n",
    "    df['rolling_mean_hour'] = df[column_heading].shift().rolling(rolling_mean_size_hour).mean()\n",
    "    df['rolling_mean_day'] = df[column_heading].shift().rolling(rolling_mean_size_day).mean()\n",
    "\n",
    "make_features(data, 5, 2, 24)\n",
    "data"
   ]
  },
  {
   "cell_type": "code",
   "execution_count": null,
   "id": "96e7c774",
   "metadata": {},
   "outputs": [],
   "source": [
    "# remove the nan cause by lag and rolling mean in the dataset beggining\n",
    "data.dropna(inplace=True)"
   ]
  },
  {
   "cell_type": "code",
   "execution_count": null,
   "id": "9cf7431c",
   "metadata": {},
   "outputs": [],
   "source": [
    "# Split train and test \n",
    "X = data.drop(['num_orders'], axis=1)\n",
    "y = data[['num_orders']]\n",
    "\n",
    "X_train, X_test, y_train, y_test = train_test_split(X, y, shuffle=False, test_size=0.1)\n",
    "X_train.shape, X_test.shape, y_train.shape, y_test.shape\n"
   ]
  },
  {
   "cell_type": "markdown",
   "id": "6d0580ac",
   "metadata": {},
   "source": [
    "ok"
   ]
  },
  {
   "cell_type": "markdown",
   "id": "3443663b",
   "metadata": {},
   "source": [
    "Linear Regression"
   ]
  },
  {
   "cell_type": "code",
   "execution_count": null,
   "id": "19341a27",
   "metadata": {},
   "outputs": [],
   "source": [
    "lr = LinearRegression()\n",
    "lr.fit(X_train, y_train)\n",
    "\n",
    "predict = lr.predict(X_test)\n",
    "\n",
    "print(\"RMSE for the test set: \", mean_squared_error(y_test, predict)**0.5)"
   ]
  },
  {
   "cell_type": "markdown",
   "id": "6950b938",
   "metadata": {},
   "source": [
    "For simple Linear Regression the target RMSE of 48 not achieved\n",
    "\n",
    "Let's try light GBM"
   ]
  },
  {
   "cell_type": "markdown",
   "id": "6126d099",
   "metadata": {},
   "source": [
    "# laoding data\n",
    "lgb_train = lgb.Dataset(X_train, y_train)\n",
    "lgb_eval = lgb.Dataset(X_test, y_test, reference=lgb_train)"
   ]
  },
  {
   "cell_type": "code",
   "execution_count": null,
   "id": "1893d08d",
   "metadata": {},
   "outputs": [],
   "source": [
    "%%time\n",
    "\n",
    "lgbm_regressor = lgb.LGBMRegressor(\n",
    "    boosting_type='gbdt',\n",
    "    learning_rate=0.1,\n",
    "    n_estimators=10000,\n",
    "    random_state=12345\n",
    ")\n",
    "\n",
    "lgbm_regressor.fit(\n",
    "    X_train,\n",
    "    y_train,\n",
    "    eval_set=[(X_test, y_test)],\n",
    "    eval_metric='RMSE',\n",
    "    callbacks=[lgb.early_stopping(stopping_rounds=100)]\n",
    ")\n",
    "\n",
    "y_predict = lgbm_regressor.predict(X_test)\n",
    "print(f\"LightGBM RMSE on the test set: {lgbm_regressor.best_score_['valid_0']['rmse']:.2f}\")"
   ]
  },
  {
   "cell_type": "markdown",
   "id": "f2398f18",
   "metadata": {},
   "source": [
    "With light GBM the RMSE is lower then 48\n",
    "\n",
    "Now let's do the same but this time optimise the parameters: learning_rate, num_leaves and max_depth"
   ]
  },
  {
   "cell_type": "code",
   "execution_count": null,
   "id": "371a69c8",
   "metadata": {},
   "outputs": [],
   "source": [
    "def objective(trial, X, y):\n",
    "    param_grid = {\n",
    "        #         \"device_type\": trial.suggest_categorical(\"device_type\", ['gpu']),\n",
    "        \"n_estimators\": trial.suggest_categorical(\"n_estimators\", [10000]),\n",
    "        \"learning_rate\": trial.suggest_float(\"learning_rate\", 0.01, 0.3),\n",
    "        \"num_leaves\": trial.suggest_int(\"num_leaves\", 20, 3000, step=20),\n",
    "        \"max_depth\": trial.suggest_int(\"max_depth\", 3, 12),\n",
    "    }\n",
    "    \n",
    "    model = lgb.LGBMRegressor(**param_grid)\n",
    "    model.fit(\n",
    "            X_train,\n",
    "            y_train,\n",
    "            eval_set=[(X_test, y_test)],\n",
    "            eval_metric=\"rmse\",\n",
    "            early_stopping_rounds=100,\n",
    "            callbacks=[lgb.early_stopping(stopping_rounds=100)]  # Add a pruning callback\n",
    "        )\n",
    "    preds = model.predict(X_test)\n",
    "    score = mean_squared_error(y_test, preds)**0.5\n",
    "        \n",
    "    return score"
   ]
  },
  {
   "cell_type": "code",
   "execution_count": null,
   "id": "4b5d5d52",
   "metadata": {},
   "outputs": [],
   "source": [
    "%%time\n",
    "\n",
    "study = optuna.create_study(direction=\"minimize\", study_name=\"LGBM regressor\")\n",
    "func = lambda trial: objective(trial, X, y)\n",
    "study.optimize(func, n_trials=20)"
   ]
  },
  {
   "cell_type": "code",
   "execution_count": null,
   "id": "ce5a7377",
   "metadata": {},
   "outputs": [],
   "source": [
    "print(f\"\\tBest value (rmse): {study.best_value:.5f}\")\n",
    "print(f\"\\tBest value (rmse): {study.best_value:.5f}\")\n",
    "print(f\"\\tBest params:\")\n",
    "\n",
    "for key, value in study.best_params.items():\n",
    "    print(f\"\\t\\t{key}: {value}\")"
   ]
  },
  {
   "cell_type": "markdown",
   "id": "e0a500ad",
   "metadata": {},
   "source": [
    "I managed to squeezed up a bit the RMSE score and now it's almost 42! "
   ]
  },
  {
   "cell_type": "markdown",
   "id": "6a715ad6",
   "metadata": {},
   "source": [
    "For conclusion the hyperparameter tuning on the lgbm yield the best results. This together with optimizing the features I managed to get a good RMSE, much below the requirements"
   ]
  },
  {
   "cell_type": "code",
   "execution_count": null,
   "id": "e93c5f4e",
   "metadata": {},
   "outputs": [],
   "source": []
  }
 ],
 "metadata": {
  "kernelspec": {
   "display_name": "Python 3 (ipykernel)",
   "language": "python",
   "name": "python3"
  },
  "language_info": {
   "codemirror_mode": {
    "name": "ipython",
    "version": 3
   },
   "file_extension": ".py",
   "mimetype": "text/x-python",
   "name": "python",
   "nbconvert_exporter": "python",
   "pygments_lexer": "ipython3",
   "version": "3.9.7"
  },
  "toc": {
   "base_numbering": 1,
   "nav_menu": {},
   "number_sections": true,
   "sideBar": true,
   "skip_h1_title": false,
   "title_cell": "Table of Contents",
   "title_sidebar": "Contents",
   "toc_cell": false,
   "toc_position": {},
   "toc_section_display": true,
   "toc_window_display": false
  }
 },
 "nbformat": 4,
 "nbformat_minor": 5
}
